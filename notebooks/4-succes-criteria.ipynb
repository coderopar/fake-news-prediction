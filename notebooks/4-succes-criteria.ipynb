{
 "cells": [
  {
   "cell_type": "markdown",
   "id": "db76d472",
   "metadata": {},
   "source": [
    "## Success Criteria"
   ]
  }
 ],
 "metadata": {
  "language_info": {
   "name": "python"
  }
 },
 "nbformat": 4,
 "nbformat_minor": 5
}
