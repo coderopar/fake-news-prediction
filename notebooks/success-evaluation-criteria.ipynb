{
 "cells": [
  {
   "cell_type": "markdown",
   "id": "5a5a4b96",
   "metadata": {},
   "source": [
    "## Success Evaluation Criteria\n",
    "\n",
    "The success of the fake news detection system will be evaluated based on the following **performance metrics**:\n",
    "\n",
    "### 1. Accuracy\n",
    "The proportion of correctly classified articles (both fake and real) out of all articles.\n",
    "$$\n",
    "\\text{Accuracy} = \\frac{\\text{Number of Correct Predictions}}{\\text{Total Number of Predictions}}\n",
    "$$\n",
    "\n",
    "### 2. Precision\n",
    "The proportion of correctly identified fake news articles out of all articles predicted as fake.  \n",
    "**Goal:** Minimize false positives (real news incorrectly labeled as fake).\n",
    "$$\n",
    "\\text{Precision} = \\frac{\\text{True Positives}}{\\text{True Positives} + \\text{False Positives}}\n",
    "$$\n",
    "\n",
    "### 3. Recall (Sensitivity)\n",
    "The proportion of fake news articles correctly identified out of all actual fake articles.  \n",
    "**Goal:** Minimize false negatives (fake news incorrectly labeled as real).\n",
    "$$\n",
    "\\text{Recall} = \\frac{\\text{True Positives}}{\\text{True Positives} + \\text{False Negatives}}\n",
    "$$\n",
    "\n",
    "### 4. F1-Score\n",
    "The harmonic mean of Precision and Recall. Provides a single, balanced metric for model comparison, especially useful with imbalanced datasets.\n",
    "$$\n",
    "\\text{F1-Score} = 2 \\times \\frac{\\text{Precision} \\times \\text{Recall}}{\\text{Precision} + \\text{Recall}}\n",
    "$$\n",
    "\n",
    "---\n",
    "\n",
    "### Model Selection & Trade-offs\n",
    "The best model will be selected based on a combination of these metrics, considering the project's goals:\n",
    "*   **High Recall** is critical to catch as much fake news as possible (reduce misinformation spread).\n",
    "*   **High Precision** is important to avoid censoring or mislabeling real news (reduce false alarms).\n",
    "*   **F1-Score** provides the best overall balance for this binary classification task.\n",
    "*   **Inference Speed** may be a deciding factor for deployment (e.g., Logistic Regression vs. BERT)."
   ]
  }
 ],
 "metadata": {
  "language_info": {
   "name": "python"
  }
 },
 "nbformat": 4,
 "nbformat_minor": 5
}
