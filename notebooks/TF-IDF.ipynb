{
 "cells": [
  {
   "cell_type": "markdown",
   "id": "471bc560",
   "metadata": {},
   "source": [
    "#### TF-IDF + Logistic Regression baseline with cleaned text"
   ]
  },
  {
   "cell_type": "markdown",
   "id": "dc1f1623",
   "metadata": {},
   "source": [
    "1. Load the splits"
   ]
  },
  {
   "cell_type": "code",
   "execution_count": 1,
   "id": "24313bd8",
   "metadata": {},
   "outputs": [
    {
     "ename": "NameError",
     "evalue": "name 'pd' is not defined",
     "output_type": "error",
     "traceback": [
      "\u001b[31m---------------------------------------------------------------------------\u001b[39m",
      "\u001b[31mNameError\u001b[39m                                 Traceback (most recent call last)",
      "\u001b[36mCell\u001b[39m\u001b[36m \u001b[39m\u001b[32mIn[1]\u001b[39m\u001b[32m, line 1\u001b[39m\n\u001b[32m----> \u001b[39m\u001b[32m1\u001b[39m train_df = \u001b[43mpd\u001b[49m.read_csv(\u001b[33m\"\u001b[39m\u001b[33m../data/train.csv\u001b[39m\u001b[33m\"\u001b[39m)\n\u001b[32m      2\u001b[39m val_df   = pd.read_csv(\u001b[33m\"\u001b[39m\u001b[33m../data/val.csv\u001b[39m\u001b[33m\"\u001b[39m)\n\u001b[32m      3\u001b[39m test_df  = pd.read_csv(\u001b[33m\"\u001b[39m\u001b[33m../data/test.csv\u001b[39m\u001b[33m\"\u001b[39m)\n",
      "\u001b[31mNameError\u001b[39m: name 'pd' is not defined"
     ]
    }
   ],
   "source": [
    "train_df = pd.read_csv(\"../data/train.csv\")\n",
    "val_df   = pd.read_csv(\"../data/val.csv\")\n",
    "test_df  = pd.read_csv(\"../data/test.csv\")\n",
    "\n",
    "print(\"Train shape:\", train_df.shape)\n",
    "print(\"Val shape:\", val_df.shape)\n",
    "print(\"Test shape:\", test_df.shape)"
   ]
  },
  {
   "cell_type": "markdown",
   "id": "56eb2dd8",
   "metadata": {},
   "source": [
    " 2. Vectorize cleaned text with TF-IDF"
   ]
  },
  {
   "cell_type": "code",
   "execution_count": null,
   "id": "e9160f9b",
   "metadata": {},
   "outputs": [],
   "source": [
    "from sklearn.feature_extraction.text import TfidfVectorizer\n",
    "\n",
    "vectorizer = TfidfVectorizer(\n",
    "    max_features=10000,     # top 10k features\n",
    "    ngram_range=(1,2),      # unigrams + bigrams\n",
    "    stop_words=\"english\"    # remove stopwords\n",
    ")\n",
    "\n",
    "X_train = vectorizer.fit_transform(train_df[\"text_clean\"])\n",
    "X_val   = vectorizer.transform(val_df[\"text_clean\"])\n",
    "X_test  = vectorizer.transform(test_df[\"text_clean\"])\n",
    "\n",
    "y_train = train_df[\"label\"]\n",
    "y_val   = val_df[\"label\"]\n",
    "y_test  = test_df[\"label\"]"
   ]
  },
  {
   "cell_type": "markdown",
   "id": "a983e991",
   "metadata": {},
   "source": [
    " 3. Train Logistic Regression"
   ]
  },
  {
   "cell_type": "code",
   "execution_count": null,
   "id": "8cc9ba6a",
   "metadata": {},
   "outputs": [],
   "source": [
    "from sklearn.linear_model import LogisticRegression\n",
    "\n",
    "log_reg = LogisticRegression(\n",
    "    max_iter=500,\n",
    "    solver=\"liblinear\"\n",
    ")\n",
    "log_reg.fit(X_train, y_train)"
   ]
  },
  {
   "cell_type": "markdown",
   "id": "898afb94",
   "metadata": {},
   "source": [
    " 4. Evaluate on Validation Set"
   ]
  },
  {
   "cell_type": "code",
   "execution_count": null,
   "id": "a7806ee2",
   "metadata": {},
   "outputs": [],
   "source": [
    "\n",
    "from sklearn.metrics import classification_report, accuracy_score\n",
    "\n",
    "y_val_pred = log_reg.predict(X_val)\n",
    "print(\"Validation Accuracy:\", accuracy_score(y_val, y_val_pred))\n",
    "print(\"\\nClassification Report (Validation):\\n\", classification_report(y_val, y_val_pred))"
   ]
  },
  {
   "cell_type": "markdown",
   "id": "a51d8d48",
   "metadata": {},
   "source": [
    " 5. Evaluate on Test Set"
   ]
  },
  {
   "cell_type": "code",
   "execution_count": null,
   "id": "5e91c409",
   "metadata": {},
   "outputs": [],
   "source": [
    "y_test_pred = log_reg.predict(X_test)\n",
    "print(\"Test Accuracy:\", accuracy_score(y_test, y_test_pred))\n",
    "print(\"\\nClassification Report (Test):\\n\", classification_report(y_test, y_test_pred))\n"
   ]
  }
 ],
 "metadata": {
  "kernelspec": {
   "display_name": "Python 3",
   "language": "python",
   "name": "python3"
  },
  "language_info": {
   "codemirror_mode": {
    "name": "ipython",
    "version": 3
   },
   "file_extension": ".py",
   "mimetype": "text/x-python",
   "name": "python",
   "nbconvert_exporter": "python",
   "pygments_lexer": "ipython3",
   "version": "3.12.10"
  }
 },
 "nbformat": 4,
 "nbformat_minor": 5
}
