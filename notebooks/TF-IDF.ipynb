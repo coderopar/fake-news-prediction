{
 "cells": [
  {
   "cell_type": "markdown",
   "id": "c5964cfa",
   "metadata": {},
   "source": [
    "#### TF-IDF + Logistic Regression baseline"
   ]
  },
  {
   "cell_type": "markdown",
   "id": "e480f5ab",
   "metadata": {},
   "source": [
    "Before moving to advanced models , we first establish a simple baseline using TF-IDF vectorization combined with Logistic Regression. This provides a benchmark to compare more complex approaches against.\n",
    "\n"
   ]
  },
  {
   "cell_type": "markdown",
   "id": "d4412c25",
   "metadata": {},
   "source": [
    "1. Load the splits"
   ]
  },
  {
   "cell_type": "code",
   "execution_count": null,
   "id": "f966b5e6",
   "metadata": {},
   "outputs": [
    {
     "name": "stdout",
     "output_type": "stream",
     "text": [
      "Train shape: (35918, 10)\n",
      "Val shape: (4490, 10)\n",
      "Test shape: (4490, 10)\n"
     ]
    }
   ],
   "source": [
    "train_df = pd.read_csv(\"../data/train.csv\")\n",
    "val_df   = pd.read_csv(\"../data/val.csv\")\n",
    "test_df  = pd.read_csv(\"../data/test.csv\")\n",
    "\n",
    "print(\"Train shape:\", train_df.shape)\n",
    "print(\"Val shape:\", val_df.shape)   \n",
    "print(\"Test shape:\", test_df.shape)\n"
   ]
  },
  {
   "cell_type": "markdown",
   "id": "0ea13a13",
   "metadata": {},
   "source": [
    "2. vectorize text with TF-IDF"
   ]
  },
  {
   "cell_type": "code",
   "execution_count": null,
   "id": "516ecbf6",
   "metadata": {},
   "outputs": [],
   "source": [
    "from sklearn.feature_extraction.text import TfidfVectorizer\n",
    "\n",
    "vectorizer = TfidfVectorizer(\n",
    "    max_features=10000,     # top 10k features\n",
    "    ngram_range=(1,2),      # unigrams + bigrams\n",
    "    stop_words=\"english\"    # remove stopwords\n",
    ")\n",
    "\n",
    "X_train = vectorizer.fit_transform(train_df[\"combined_text\"])\n",
    "X_val   = vectorizer.transform(val_df[\"combined_text\"])\n",
    "X_test  = vectorizer.transform(test_df[\"combined_text\"])\n",
    "\n",
    "y_train = train_df[\"label\"]\n",
    "y_val   = val_df[\"label\"]\n",
    "y_test  = test_df[\"label\"]"
   ]
  },
  {
   "cell_type": "markdown",
   "id": "d49102a8",
   "metadata": {},
   "source": [
    "3. Train logistic regression "
   ]
  },
  {
   "cell_type": "code",
   "execution_count": null,
   "id": "8aeb44ad",
   "metadata": {},
   "outputs": [],
   "source": [
    "from sklearn.linear_model import LogisticRegression\n",
    "\n",
    "log_reg = LogisticRegression(\n",
    "    max_iter=500,       # enough iterations\n",
    "    solver=\"liblinear\"  # good for small/medium datasets\n",
    ")\n",
    "log_reg.fit(X_train, y_train)"
   ]
  },
  {
   "cell_type": "markdown",
   "id": "b90c877a",
   "metadata": {},
   "source": [
    "4. Evaluate on Validation Set"
   ]
  },
  {
   "cell_type": "code",
   "execution_count": null,
   "id": "109167ea",
   "metadata": {},
   "outputs": [],
   "source": [
    "from sklearn.metrics import classification_report, accuracy_score\n",
    "\n",
    "y_val_pred = log_reg.predict(X_val)\n",
    "print(\"Validation Accuracy:\", accuracy_score(y_val, y_val_pred))\n",
    "print(\"\\nClassification Report (Validation):\\n\", classification_report(y_val, y_val_pred))"
   ]
  },
  {
   "cell_type": "markdown",
   "id": "b770bc57",
   "metadata": {},
   "source": [
    "5. Evaluate on Test Set"
   ]
  },
  {
   "cell_type": "code",
   "execution_count": null,
   "id": "93ec23f6",
   "metadata": {},
   "outputs": [],
   "source": [
    "y_test_pred = log_reg.predict(X_test)\n",
    "print(\"Test Accuracy:\", accuracy_score(y_test, y_test_pred))\n",
    "print(\"\\nClassification Report (Test):\\n\", classification_report(y_test, y_test_pred))"
   ]
  }
 ],
 "metadata": {
  "kernelspec": {
   "display_name": "Python 3",
   "language": "python",
   "name": "python3"
  },
  "language_info": {
   "name": "python",
   "version": "3.12.10"
  }
 },
 "nbformat": 4,
 "nbformat_minor": 5
}
