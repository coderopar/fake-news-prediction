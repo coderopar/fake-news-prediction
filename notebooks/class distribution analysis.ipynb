{
 "cells": [
  {
   "cell_type": "markdown",
   "id": "f80d7618",
   "metadata": {},
   "source": [
    "### Project Charter - Fake News Prediction\n",
    "\n",
    "**Project Title:** Fake News Prediction using Machine Learning  \n",
    "\n",
    "**Problem Statement:**  \n",
    "The spread of misinformation and fake news undermines public trust, fuels polarization, and can have serious consequences in politics, health, and society. Manual fact-checking is slow and cannot keep up with the massive volume of online content. There is a need for automated tools that can help classify news articles as fake or true.  \n",
    "\n",
    "**Objectives:**  \n",
    "- Build a machine learning model to classify news articles into FAKE or TRUE.  \n",
    "- Analyze linguistic and structural patterns that distinguish fake from true reporting.  \n",
    "- Establish baseline performance metrics for future improvements.  \n",
    "- Provide interpretable outputs that can support content moderation and awareness.  \n",
    "\n",
    "**Scope:**  \n",
    "- Use a labeled dataset of fake and true news articles.  \n",
    "- Apply natural language processing (NLP) methods such as TF-IDF and Logistic Regression for a baseline model.  \n",
    "- Evaluate model performance using metrics like accuracy, precision, recall, and F1-score.  \n",
    "- Focus on **text content only** (no multimedia or source metadata).  \n",
    "\n",
    "**Success Criteria:**  \n",
    "- Achieve at least **80% accuracy** on test data.  \n",
    "- Balanced **precision and recall** for both FAKE and TRUE classes.  \n",
    "- A reproducible pipeline that can be extended to more advanced models.  \n"
   ]
  },
  {
   "cell_type": "markdown",
   "id": "d6698f8e",
   "metadata": {},
   "source": [
    "### Ethical Concerns\n",
    "\n",
    "Building a Fake News Detection model involves important ethical considerations that must be acknowledged:\n",
    "\n",
    "1. **Bias in Data**  \n",
    "   - The dataset may reflect political, cultural, or regional biases depending on the sources chosen.  \n",
    "   - If most fake articles are from one region or political leaning, the model may unfairly generalize.  \n",
    "\n",
    "2. **Risk of Censorship**  \n",
    "   - A model that flags content as “fake” could be misused for **silencing dissent** or limiting free speech.  \n",
    "   - It is essential to frame the system as a **support tool**, not an absolute authority.  \n",
    "\n",
    "3. **Transparency and Accountability**  \n",
    "   - Users should understand the model’s limitations and decision boundaries.  \n",
    "   - Explanations (e.g., why an article is flagged) are important for trust.  \n",
    "\n",
    "4. **False Positives vs False Negatives**  \n",
    "   - **False Positives (True news flagged as Fake):** harms media credibility and public trust.  \n",
    "   - **False Negatives (Fake news missed):** allows misinformation to spread unchecked.  \n",
    "   - The trade-off between these errors must be carefully balanced.  \n",
    "\n",
    "5. **Responsible Use**  \n",
    "   - This model should be a starting point for **awareness and research**, not the final word in content moderation.  \n",
    "   - Final decisions should always involve **human oversight** to avoid misuse.  \n"
   ]
  },
  {
   "cell_type": "markdown",
   "id": "5d0d49ff",
   "metadata": {},
   "source": [
    "### Domain Context\n",
    "\n",
    "Fake news is not a new phenomenon, but the **digital age and social media** have amplified its reach and speed of spread. Platforms such as Facebook, Twitter (X), and WhatsApp make it easy for misinformation to go viral within minutes, often reaching millions before fact-checkers can intervene.  \n",
    "\n",
    "#### Why fake news matters\n",
    "- **Politics:** Fake stories can shape public opinion, influence elections, and undermine democratic processes.  \n",
    "- **Health:** Misinformation about vaccines, pandemics, or treatments can lead to dangerous public health outcomes.  \n",
    "- **Society:** Fake news erodes trust in journalism and institutions, fueling polarization and confusion.  \n",
    "\n",
    "#### Why it’s challenging\n",
    "- Fake articles often **mimic the style of real news**, making manual detection difficult.  \n",
    "- The volume of online content is too high for human moderators alone.  \n",
    "- Fake news creators frequently adapt, changing words and formats to avoid detection.  \n",
    "\n",
    "#### Relevance to this project\n",
    "- This dataset contains thousands of labeled **fake** and **true** articles, providing a foundation to study how machine learning can help in detection.  \n",
    "- By analyzing **linguistic features** (words, phrases, structure), we can build models that learn the patterns distinguishing credible from misleading content.  \n",
    "- Insights from the project can inform media organizations, social platforms, and policymakers in designing **responsible content moderation strategies**.  \n"
   ]
  },
  {
   "cell_type": "markdown",
   "id": "2f2866dc",
   "metadata": {},
   "source": [
    "## Dataset Exploration and Understanding"
   ]
  },
  {
   "cell_type": "code",
   "execution_count": null,
   "id": "584d8f2d",
   "metadata": {},
   "outputs": [
    {
     "name": "stdout",
     "output_type": "stream",
     "text": [
      "Files extracted successfully!\n"
     ]
    }
   ],
   "source": [
    "import zipfile\n",
    "\n",
    "with zipfile.ZipFile(\"archive.zip\", 'r') as zip_ref:\n",
    "    zip_ref.extractall(\"unzipped_data\")\n",
    "    \n",
    "print(\"Files extracted successfully!\")"
   ]
  },
  {
   "cell_type": "code",
   "execution_count": null,
   "id": "c01fb812",
   "metadata": {},
   "outputs": [
    {
     "data": {
      "text/plain": [
       "['Fake.csv', 'True.csv']"
      ]
     },
     "metadata": {},
     "output_type": "display_data"
    }
   ],
   "source": [
    "import os  # import the os module first\n",
    "\n",
    "# List files in the folder\n",
    "os.listdir(\"unzipped_data\")\n"
   ]
  },
  {
   "cell_type": "code",
   "execution_count": null,
   "id": "9d37e30d",
   "metadata": {},
   "outputs": [
    {
     "data": {
      "text/plain": [
       "['Fake.csv', 'True.csv']"
      ]
     },
     "metadata": {},
     "output_type": "display_data"
    }
   ],
   "source": [
    "os.listdir(\"unzipped_data\")"
   ]
  },
  {
   "cell_type": "code",
   "execution_count": null,
   "id": "d655308b",
   "metadata": {},
   "outputs": [
    {
     "name": "stdout",
     "output_type": "stream",
     "text": [
      "Fake News Dataset: (23481, 4)\n",
      "True News Dataset: (21417, 4)\n"
     ]
    },
    {
     "data": {
      "text/html": [
       "<div>\n",
       "<style scoped>\n",
       "    .dataframe tbody tr th:only-of-type {\n",
       "        vertical-align: middle;\n",
       "    }\n",
       "\n",
       "    .dataframe tbody tr th {\n",
       "        vertical-align: top;\n",
       "    }\n",
       "\n",
       "    .dataframe thead th {\n",
       "        text-align: right;\n",
       "    }\n",
       "</style>\n",
       "<table border=\"1\" class=\"dataframe\">\n",
       "  <thead>\n",
       "    <tr style=\"text-align: right;\">\n",
       "      <th></th>\n",
       "      <th>title</th>\n",
       "      <th>text</th>\n",
       "      <th>subject</th>\n",
       "      <th>date</th>\n",
       "    </tr>\n",
       "  </thead>\n",
       "  <tbody>\n",
       "    <tr>\n",
       "      <th>0</th>\n",
       "      <td>Donald Trump Sends Out Embarrassing New Year’...</td>\n",
       "      <td>Donald Trump just couldn t wish all Americans ...</td>\n",
       "      <td>News</td>\n",
       "      <td>December 31, 2017</td>\n",
       "    </tr>\n",
       "    <tr>\n",
       "      <th>1</th>\n",
       "      <td>Drunk Bragging Trump Staffer Started Russian ...</td>\n",
       "      <td>House Intelligence Committee Chairman Devin Nu...</td>\n",
       "      <td>News</td>\n",
       "      <td>December 31, 2017</td>\n",
       "    </tr>\n",
       "    <tr>\n",
       "      <th>2</th>\n",
       "      <td>Sheriff David Clarke Becomes An Internet Joke...</td>\n",
       "      <td>On Friday, it was revealed that former Milwauk...</td>\n",
       "      <td>News</td>\n",
       "      <td>December 30, 2017</td>\n",
       "    </tr>\n",
       "    <tr>\n",
       "      <th>3</th>\n",
       "      <td>Trump Is So Obsessed He Even Has Obama’s Name...</td>\n",
       "      <td>On Christmas day, Donald Trump announced that ...</td>\n",
       "      <td>News</td>\n",
       "      <td>December 29, 2017</td>\n",
       "    </tr>\n",
       "    <tr>\n",
       "      <th>4</th>\n",
       "      <td>Pope Francis Just Called Out Donald Trump Dur...</td>\n",
       "      <td>Pope Francis used his annual Christmas Day mes...</td>\n",
       "      <td>News</td>\n",
       "      <td>December 25, 2017</td>\n",
       "    </tr>\n",
       "  </tbody>\n",
       "</table>\n",
       "</div>"
      ],
      "text/plain": [
       "                                               title  \\\n",
       "0   Donald Trump Sends Out Embarrassing New Year’...   \n",
       "1   Drunk Bragging Trump Staffer Started Russian ...   \n",
       "2   Sheriff David Clarke Becomes An Internet Joke...   \n",
       "3   Trump Is So Obsessed He Even Has Obama’s Name...   \n",
       "4   Pope Francis Just Called Out Donald Trump Dur...   \n",
       "\n",
       "                                                text subject  \\\n",
       "0  Donald Trump just couldn t wish all Americans ...    News   \n",
       "1  House Intelligence Committee Chairman Devin Nu...    News   \n",
       "2  On Friday, it was revealed that former Milwauk...    News   \n",
       "3  On Christmas day, Donald Trump announced that ...    News   \n",
       "4  Pope Francis used his annual Christmas Day mes...    News   \n",
       "\n",
       "                date  \n",
       "0  December 31, 2017  \n",
       "1  December 31, 2017  \n",
       "2  December 30, 2017  \n",
       "3  December 29, 2017  \n",
       "4  December 25, 2017  "
      ]
     },
     "metadata": {},
     "output_type": "display_data"
    }
   ],
   "source": [
    "import pandas as pd\n",
    "\n",
    "fake_df = pd.read_csv(\"unzipped_data/Fake.csv\")\n",
    "true_df = pd.read_csv(\"unzipped_data/True.csv\")\n",
    "\n",
    "print(\"Fake News Dataset:\", fake_df.shape)\n",
    "print(\"True News Dataset:\", true_df.shape)\n",
    "\n",
    "fake_df.head()"
   ]
  },
  {
   "cell_type": "code",
   "execution_count": null,
   "id": "8487e62d",
   "metadata": {},
   "outputs": [
    {
     "data": {
      "text/html": [
       "<div>\n",
       "<style scoped>\n",
       "    .dataframe tbody tr th:only-of-type {\n",
       "        vertical-align: middle;\n",
       "    }\n",
       "\n",
       "    .dataframe tbody tr th {\n",
       "        vertical-align: top;\n",
       "    }\n",
       "\n",
       "    .dataframe thead th {\n",
       "        text-align: right;\n",
       "    }\n",
       "</style>\n",
       "<table border=\"1\" class=\"dataframe\">\n",
       "  <thead>\n",
       "    <tr style=\"text-align: right;\">\n",
       "      <th></th>\n",
       "      <th>title</th>\n",
       "      <th>text</th>\n",
       "      <th>subject</th>\n",
       "      <th>date</th>\n",
       "    </tr>\n",
       "  </thead>\n",
       "  <tbody>\n",
       "    <tr>\n",
       "      <th>0</th>\n",
       "      <td>As U.S. budget fight looms, Republicans flip t...</td>\n",
       "      <td>WASHINGTON (Reuters) - The head of a conservat...</td>\n",
       "      <td>politicsNews</td>\n",
       "      <td>December 31, 2017</td>\n",
       "    </tr>\n",
       "    <tr>\n",
       "      <th>1</th>\n",
       "      <td>U.S. military to accept transgender recruits o...</td>\n",
       "      <td>WASHINGTON (Reuters) - Transgender people will...</td>\n",
       "      <td>politicsNews</td>\n",
       "      <td>December 29, 2017</td>\n",
       "    </tr>\n",
       "    <tr>\n",
       "      <th>2</th>\n",
       "      <td>Senior U.S. Republican senator: 'Let Mr. Muell...</td>\n",
       "      <td>WASHINGTON (Reuters) - The special counsel inv...</td>\n",
       "      <td>politicsNews</td>\n",
       "      <td>December 31, 2017</td>\n",
       "    </tr>\n",
       "    <tr>\n",
       "      <th>3</th>\n",
       "      <td>FBI Russia probe helped by Australian diplomat...</td>\n",
       "      <td>WASHINGTON (Reuters) - Trump campaign adviser ...</td>\n",
       "      <td>politicsNews</td>\n",
       "      <td>December 30, 2017</td>\n",
       "    </tr>\n",
       "    <tr>\n",
       "      <th>4</th>\n",
       "      <td>Trump wants Postal Service to charge 'much mor...</td>\n",
       "      <td>SEATTLE/WASHINGTON (Reuters) - President Donal...</td>\n",
       "      <td>politicsNews</td>\n",
       "      <td>December 29, 2017</td>\n",
       "    </tr>\n",
       "  </tbody>\n",
       "</table>\n",
       "</div>"
      ],
      "text/plain": [
       "                                               title  \\\n",
       "0  As U.S. budget fight looms, Republicans flip t...   \n",
       "1  U.S. military to accept transgender recruits o...   \n",
       "2  Senior U.S. Republican senator: 'Let Mr. Muell...   \n",
       "3  FBI Russia probe helped by Australian diplomat...   \n",
       "4  Trump wants Postal Service to charge 'much mor...   \n",
       "\n",
       "                                                text       subject  \\\n",
       "0  WASHINGTON (Reuters) - The head of a conservat...  politicsNews   \n",
       "1  WASHINGTON (Reuters) - Transgender people will...  politicsNews   \n",
       "2  WASHINGTON (Reuters) - The special counsel inv...  politicsNews   \n",
       "3  WASHINGTON (Reuters) - Trump campaign adviser ...  politicsNews   \n",
       "4  SEATTLE/WASHINGTON (Reuters) - President Donal...  politicsNews   \n",
       "\n",
       "                 date  \n",
       "0  December 31, 2017   \n",
       "1  December 29, 2017   \n",
       "2  December 31, 2017   \n",
       "3  December 30, 2017   \n",
       "4  December 29, 2017   "
      ]
     },
     "metadata": {},
     "output_type": "display_data"
    }
   ],
   "source": [
    "true_df.head()"
   ]
  },
  {
   "cell_type": "code",
   "execution_count": null,
   "id": "ca0f9bd3",
   "metadata": {},
   "outputs": [
    {
     "name": "stdout",
     "output_type": "stream",
     "text": [
      "(44898, 5)\n",
      "label\n",
      "FAKE    23481\n",
      "TRUE    21417\n",
      "Name: count, dtype: int64\n"
     ]
    },
    {
     "data": {
      "text/html": [
       "<div>\n",
       "<style scoped>\n",
       "    .dataframe tbody tr th:only-of-type {\n",
       "        vertical-align: middle;\n",
       "    }\n",
       "\n",
       "    .dataframe tbody tr th {\n",
       "        vertical-align: top;\n",
       "    }\n",
       "\n",
       "    .dataframe thead th {\n",
       "        text-align: right;\n",
       "    }\n",
       "</style>\n",
       "<table border=\"1\" class=\"dataframe\">\n",
       "  <thead>\n",
       "    <tr style=\"text-align: right;\">\n",
       "      <th></th>\n",
       "      <th>title</th>\n",
       "      <th>text</th>\n",
       "      <th>subject</th>\n",
       "      <th>date</th>\n",
       "      <th>label</th>\n",
       "    </tr>\n",
       "  </thead>\n",
       "  <tbody>\n",
       "    <tr>\n",
       "      <th>0</th>\n",
       "      <td>Ben Stein Calls Out 9th Circuit Court: Committ...</td>\n",
       "      <td>21st Century Wire says Ben Stein, reputable pr...</td>\n",
       "      <td>US_News</td>\n",
       "      <td>February 13, 2017</td>\n",
       "      <td>FAKE</td>\n",
       "    </tr>\n",
       "    <tr>\n",
       "      <th>1</th>\n",
       "      <td>Trump drops Steve Bannon from National Securit...</td>\n",
       "      <td>WASHINGTON (Reuters) - U.S. President Donald T...</td>\n",
       "      <td>politicsNews</td>\n",
       "      <td>April 5, 2017</td>\n",
       "      <td>TRUE</td>\n",
       "    </tr>\n",
       "    <tr>\n",
       "      <th>2</th>\n",
       "      <td>Puerto Rico expects U.S. to lift Jones Act shi...</td>\n",
       "      <td>(Reuters) - Puerto Rico Governor Ricardo Rosse...</td>\n",
       "      <td>politicsNews</td>\n",
       "      <td>September 27, 2017</td>\n",
       "      <td>TRUE</td>\n",
       "    </tr>\n",
       "    <tr>\n",
       "      <th>3</th>\n",
       "      <td>OOPS: Trump Just Accidentally Confirmed He Le...</td>\n",
       "      <td>On Monday, Donald Trump once again embarrassed...</td>\n",
       "      <td>News</td>\n",
       "      <td>May 22, 2017</td>\n",
       "      <td>FAKE</td>\n",
       "    </tr>\n",
       "    <tr>\n",
       "      <th>4</th>\n",
       "      <td>Donald Trump heads for Scotland to reopen a go...</td>\n",
       "      <td>GLASGOW, Scotland (Reuters) - Most U.S. presid...</td>\n",
       "      <td>politicsNews</td>\n",
       "      <td>June 24, 2016</td>\n",
       "      <td>TRUE</td>\n",
       "    </tr>\n",
       "  </tbody>\n",
       "</table>\n",
       "</div>"
      ],
      "text/plain": [
       "                                               title  \\\n",
       "0  Ben Stein Calls Out 9th Circuit Court: Committ...   \n",
       "1  Trump drops Steve Bannon from National Securit...   \n",
       "2  Puerto Rico expects U.S. to lift Jones Act shi...   \n",
       "3   OOPS: Trump Just Accidentally Confirmed He Le...   \n",
       "4  Donald Trump heads for Scotland to reopen a go...   \n",
       "\n",
       "                                                text       subject  \\\n",
       "0  21st Century Wire says Ben Stein, reputable pr...       US_News   \n",
       "1  WASHINGTON (Reuters) - U.S. President Donald T...  politicsNews   \n",
       "2  (Reuters) - Puerto Rico Governor Ricardo Rosse...  politicsNews   \n",
       "3  On Monday, Donald Trump once again embarrassed...          News   \n",
       "4  GLASGOW, Scotland (Reuters) - Most U.S. presid...  politicsNews   \n",
       "\n",
       "                  date label  \n",
       "0    February 13, 2017  FAKE  \n",
       "1       April 5, 2017   TRUE  \n",
       "2  September 27, 2017   TRUE  \n",
       "3         May 22, 2017  FAKE  \n",
       "4       June 24, 2016   TRUE  "
      ]
     },
     "metadata": {},
     "output_type": "display_data"
    }
   ],
   "source": [
    "#merge and label\n",
    "\n",
    "#Add a label column\n",
    "fake_df[\"label\"] = \"FAKE\"\n",
    "true_df[\"label\"] = \"TRUE\"\n",
    "\n",
    "#Merge into one dataset\n",
    "data = pd.concat([fake_df, true_df], ignore_index = True)\n",
    "\n",
    "#Shuffle the rows so FAKE and TRUE are mixed\n",
    "data = data.sample(frac=1, random_state=42).reset_index(drop=True)\n",
    "\n",
    "#Check the structure\n",
    "print(data.shape)\n",
    "print(data[\"label\"].value_counts())\n",
    "data.head()"
   ]
  },
  {
   "cell_type": "code",
   "execution_count": null,
   "id": "383df1bb",
   "metadata": {},
   "outputs": [
    {
     "name": "stdout",
     "output_type": "stream",
     "text": [
      "<class 'pandas.core.frame.DataFrame'>\n",
      "RangeIndex: 44898 entries, 0 to 44897\n",
      "Data columns (total 5 columns):\n",
      " #   Column   Non-Null Count  Dtype \n",
      "---  ------   --------------  ----- \n",
      " 0   title    44898 non-null  object\n",
      " 1   text     44898 non-null  object\n",
      " 2   subject  44898 non-null  object\n",
      " 3   date     44898 non-null  object\n",
      " 4   label    44898 non-null  object\n",
      "dtypes: object(5)\n",
      "memory usage: 1.7+ MB\n"
     ]
    },
    {
     "data": {
      "text/plain": [
       "label\n",
       "FAKE    23481\n",
       "TRUE    21417\n",
       "Name: count, dtype: int64"
      ]
     },
     "metadata": {},
     "output_type": "display_data"
    }
   ],
   "source": [
    "#Basic overview of the merged data\n",
    "\n",
    "#structure\n",
    "data.info()\n",
    "\n",
    "#Number of articles in each class\n",
    "data['label'].value_counts()"
   ]
  },
  {
   "cell_type": "code",
   "execution_count": null,
   "id": "e4d1219f",
   "metadata": {},
   "outputs": [
    {
     "data": {
      "text/plain": [
       "title      0\n",
       "text       0\n",
       "subject    0\n",
       "date       0\n",
       "label      0\n",
       "dtype: int64"
      ]
     },
     "metadata": {},
     "output_type": "display_data"
    }
   ],
   "source": [
    "# check for missing values\n",
    "data.isnull().sum()"
   ]
  },
  {
   "cell_type": "code",
   "execution_count": null,
   "id": "479f8105",
   "metadata": {},
   "outputs": [
    {
     "data": {
      "text/plain": [
       "label\n",
       "FAKE    423.197905\n",
       "TRUE    385.640099\n",
       "Name: word_count, dtype: float64"
      ]
     },
     "metadata": {},
     "output_type": "display_data"
    }
   ],
   "source": [
    "#Text length analysis\n",
    "\n",
    "#Add a column for word count\n",
    "data['word_count'] = data['text'].apply(lambda x: len(str(x).split()))\n",
    "\n",
    "#Summary statistics\n",
    "data['word_count'].describe()\n",
    "\n",
    "#Compare FAKE vs TRUE word counts\n",
    "data.groupby('label')['word_count'].mean()"
   ]
  },
  {
   "cell_type": "code",
   "execution_count": null,
   "id": "dc7187a3",
   "metadata": {},
   "outputs": [
    {
     "data": {
      "image/png": "[encoded data removed]",
      "text/plain": [
       "<Figure size 640x480 with 1 Axes>"
      ]
     },
     "metadata": {},
     "output_type": "display_data"
    }
   ],
   "source": [
    "#Visualizing distributions\n",
    "import matplotlib.pyplot as plt\n",
    "\n",
    "#Histogram of word counts by label\n",
    "data[data['label']==\"FAKE\"]['word_count'].hist(alpha=0.7, bins=50, label='FAKE')\n",
    "data[data['label']==\"TRUE\"]['word_count'].hist(alpha=0.7, bins=50, label='TRUE')\n",
    "plt.legend()\n",
    "plt.xlabel(\"Word Count\")\n",
    "plt.ylabel(\"Frequency\")\n",
    "plt.title(\"Distribution of Article Lengths\")\n",
    "plt.show()"
   ]
  },
  {
   "cell_type": "markdown",
   "id": "26d19f68",
   "metadata": {},
   "source": [
    "#### MY PART"
   ]
  },
  {
   "cell_type": "markdown",
   "id": "68286077",
   "metadata": {},
   "source": [
    "#### Class Distribution Analysis"
   ]
  },
  {
   "cell_type": "markdown",
   "id": "6256826b",
   "metadata": {},
   "source": [
    "Before training the model, it is important to examine the distribution of the target classes. An imbalanced dataset e.g., 90% FAKE and 10% TRUE could bias the model toward the majority class, resulting in misleading accuracy and poor generalization. Ensuring balance is therefore critical for fair and reliable predictions."
   ]
  },
  {
   "cell_type": "markdown",
   "id": "8cc69718",
   "metadata": {},
   "source": [
    "1. Raw Class Counts\n"
   ]
  },
  {
   "cell_type": "code",
   "execution_count": null,
   "id": "b68f941b",
   "metadata": {},
   "outputs": [
    {
     "data": {
      "text/plain": [
       "label\n",
       "FAKE    23481\n",
       "TRUE    21417\n",
       "Name: count, dtype: int64"
      ]
     },
     "metadata": {},
     "output_type": "display_data"
    }
   ],
   "source": [
    "data['label'].value_counts()\n"
   ]
  },
  {
   "cell_type": "markdown",
   "id": "8add9ec3",
   "metadata": {},
   "source": [
    "The dataset contains 23,481 fake news articles and 21,417 true news articles.This results in a total of 44,898 articles.\n",
    "\n",
    "FAKE : 23,481  (~52.3%)\n",
    "TRUE : 21,417  (~47.7%)"
   ]
  },
  {
   "cell_type": "markdown",
   "id": "5fcd8990",
   "metadata": {},
   "source": [
    "2. Percentage Distribution"
   ]
  },
  {
   "cell_type": "code",
   "execution_count": null,
   "id": "bf2a8d7e",
   "metadata": {},
   "outputs": [
    {
     "data": {
      "text/plain": [
       "label\n",
       "FAKE    52.298543\n",
       "TRUE    47.701457\n",
       "Name: proportion, dtype: float64"
      ]
     },
     "metadata": {},
     "output_type": "display_data"
    }
   ],
   "source": [
    "data['label'].value_counts(normalize=True) * 100\n"
   ]
  },
  {
   "cell_type": "markdown",
   "id": "b735b9f9",
   "metadata": {},
   "source": [
    "\n",
    "\n",
    "When converted into percentages, the class proportions are:\n",
    "\n",
    "FAKE → 52.3%\n",
    "\n",
    "TRUE → 47.7%\n",
    "\n",
    "This shows that the dataset is almost evenly balanced, with only a slight skew toward fake article"
   ]
  },
  {
   "cell_type": "markdown",
   "id": "79c45134",
   "metadata": {},
   "source": [
    "\n",
    "3. Visualization\n"
   ]
  },
  {
   "cell_type": "code",
   "execution_count": null,
   "id": "328f3137",
   "metadata": {},
   "outputs": [
    {
     "name": "stderr",
     "output_type": "stream",
     "text": [
      "C:\\Users\\user\\AppData\\Local\\Temp\\ipykernel_11160\\2253211797.py:4: FutureWarning: \n",
      "\n",
      "Passing `palette` without assigning `hue` is deprecated and will be removed in v0.14.0. Assign the `x` variable to `hue` and set `legend=False` for the same effect.\n",
      "\n",
      "  sns.countplot(x='label', data=data, palette='Set2')\n"
     ]
    },
    {
     "data": {
      "image/png": "[encoded data removed]",
      "text/plain": [
       "<Figure size 640x480 with 1 Axes>"
      ]
     },
     "metadata": {},
     "output_type": "display_data"
    }
   ],
   "source": [
    "import matplotlib.pyplot as plt\n",
    "import seaborn as sns\n",
    "\n",
    "sns.countplot(x='label', data=data, palette='Set2')\n",
    "plt.title(\"Class Distribution of Fake vs True News\")\n",
    "plt.show()\n"
   ]
  },
  {
   "cell_type": "markdown",
   "id": "2ef1c986",
   "metadata": {},
   "source": [
    "\n",
    "A bar plot of the distribution highlights the balance:\n",
    "\n",
    "Both bars (FAKE vs TRUE) are nearly equal in height.\n",
    "\n",
    "There is no severe dominance of one class over the other.\n"
   ]
  },
  {
   "cell_type": "markdown",
   "id": "a178e98e",
   "metadata": {},
   "source": [
    "4. Why Class Balance Matters\n",
    "\n",
    "The class distribution is critical for machine learning classification tasks:\n",
    "\n",
    "If the dataset was heavily imbalanced e.g. 90% TRUE vs 10% FAKE, a model could achieve 90% accuracy by always predicting TRUE, but such a model would be useless in practice.\n",
    "\n",
    "Here, with a ~52/48 split, the baseline accuracy of random guessing is close to 50%, meaning our models must perform significantly better than chance to be useful."
   ]
  },
  {
   "cell_type": "markdown",
   "id": "04472690",
   "metadata": {},
   "source": [
    "5. Implications for Modeling\n",
    "\n",
    "Since the dataset is balanced, we can proceed with standard train/test splitting without needing resampling techniques like SMOTE Synthetic Minority Oversampling Technique or undersampling.\n",
    "\n",
    "Evaluation metrics such as Accuracy, Precision, Recall, and F1-score will be meaningful, because neither class is underrepresented.\n",
    "\n",
    "Models won’t need special handling like class_weight='balanced' at this stage, though testing it may still be worthwhile later."
   ]
  },
  {
   "cell_type": "markdown",
   "id": "5b933708",
   "metadata": {},
   "source": [
    "\n",
    "\n",
    "✅ Conclusion\n",
    "\n",
    "The Fake News dataset provides a balanced distribution of FAKE and TRUE articles. This balance ensures that classification models trained on this data will not inherently favor one label over the other, allowing for a fair and unbiased evaluation of algorithm performance.\n",
    "\n",
    "The slight overrepresentation of fake articles (~52%) may even be beneficial, as catching fake news (recall for FAKE) is often more critical in real-world applications than misclassifying a small portion of true news."
   ]
  }
 ],
 "metadata": {
  "kernelspec": {
   "display_name": "Python 3",
   "language": "python",
   "name": "python3"
  },
  "language_info": {
   "codemirror_mode": {
    "name": "ipython",
    "version": 3
   },
   "file_extension": ".py",
   "mimetype": "text/x-python",
   "name": "python",
   "nbconvert_exporter": "python",
   "pygments_lexer": "ipython3",
   "version": "3.12.10"
  }
 },
 "nbformat": 4,
 "nbformat_minor": 5
}
