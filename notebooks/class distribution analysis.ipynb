{
 "cells": [
  {
   "cell_type": "markdown",
   "id": "5666a925",
   "metadata": {},
   "source": [
    "#### Class Distribution Analysis"
   ]
  },
  {
   "cell_type": "markdown",
   "id": "4c5ab3fa",
   "metadata": {},
   "source": [
    "Before training the model, it is important to examine the distribution of the target classes. An imbalanced dataset e.g., 90% FAKE and 10% TRUE could bias the model toward the majority class, resulting in misleading accuracy and poor generalization. Ensuring balance is therefore critical for fair and reliable predictions."
   ]
  },
  {
   "cell_type": "markdown",
   "id": "78df7160",
   "metadata": {},
   "source": [
    "1. Raw Class Counts\n"
   ]
  },
  {
   "cell_type": "code",
   "execution_count": 1,
   "id": "22be81b0",
   "metadata": {},
   "outputs": [
    {
     "ename": "NameError",
     "evalue": "name 'data' is not defined",
     "output_type": "error",
     "traceback": [
      "\u001b[31m---------------------------------------------------------------------------\u001b[39m",
      "\u001b[31mNameError\u001b[39m                                 Traceback (most recent call last)",
      "\u001b[36mCell\u001b[39m\u001b[36m \u001b[39m\u001b[32mIn[1]\u001b[39m\u001b[32m, line 1\u001b[39m\n\u001b[32m----> \u001b[39m\u001b[32m1\u001b[39m \u001b[43mdata\u001b[49m[\u001b[33m'\u001b[39m\u001b[33mlabel\u001b[39m\u001b[33m'\u001b[39m].value_counts()\n",
      "\u001b[31mNameError\u001b[39m: name 'data' is not defined"
     ]
    }
   ],
   "source": [
    "data['label'].value_counts()\n"
   ]
  },
  {
   "cell_type": "markdown",
   "id": "30b2fcd7",
   "metadata": {},
   "source": [
    "The dataset contains 23,481 fake news articles and 21,417 true news articles.This results in a total of 44,898 articles.\n",
    "\n",
    "FAKE : 23,481  (~52.3%)\n",
    "TRUE : 21,417  (~47.7%)"
   ]
  },
  {
   "cell_type": "markdown",
   "id": "b20f5d69",
   "metadata": {},
   "source": [
    "2. Percentage Distribution"
   ]
  },
  {
   "cell_type": "code",
   "execution_count": 2,
   "id": "c3de19c0",
   "metadata": {},
   "outputs": [
    {
     "ename": "NameError",
     "evalue": "name 'data' is not defined",
     "output_type": "error",
     "traceback": [
      "\u001b[31m---------------------------------------------------------------------------\u001b[39m",
      "\u001b[31mNameError\u001b[39m                                 Traceback (most recent call last)",
      "\u001b[36mCell\u001b[39m\u001b[36m \u001b[39m\u001b[32mIn[2]\u001b[39m\u001b[32m, line 1\u001b[39m\n\u001b[32m----> \u001b[39m\u001b[32m1\u001b[39m \u001b[43mdata\u001b[49m[\u001b[33m'\u001b[39m\u001b[33mlabel\u001b[39m\u001b[33m'\u001b[39m].value_counts(normalize=\u001b[38;5;28;01mTrue\u001b[39;00m) * \u001b[32m100\u001b[39m\n",
      "\u001b[31mNameError\u001b[39m: name 'data' is not defined"
     ]
    }
   ],
   "source": [
    "data['label'].value_counts(normalize=True) * 100\n"
   ]
  },
  {
   "cell_type": "markdown",
   "id": "96a31c65",
   "metadata": {},
   "source": [
    "\n",
    "\n",
    "When converted into percentages, the class proportions are:\n",
    "\n",
    "FAKE → 52.3%\n",
    "\n",
    "TRUE → 47.7%\n",
    "\n",
    "This shows that the dataset is almost evenly balanced, with only a slight skew toward fake article"
   ]
  },
  {
   "cell_type": "markdown",
   "id": "bca3c07f",
   "metadata": {},
   "source": [
    "\n",
    "3. Visualization\n"
   ]
  },
  {
   "cell_type": "code",
   "execution_count": 3,
   "id": "e6a26b2c",
   "metadata": {},
   "outputs": [
    {
     "ename": "NameError",
     "evalue": "name 'data' is not defined",
     "output_type": "error",
     "traceback": [
      "\u001b[31m---------------------------------------------------------------------------\u001b[39m",
      "\u001b[31mNameError\u001b[39m                                 Traceback (most recent call last)",
      "\u001b[36mCell\u001b[39m\u001b[36m \u001b[39m\u001b[32mIn[3]\u001b[39m\u001b[32m, line 4\u001b[39m\n\u001b[32m      1\u001b[39m \u001b[38;5;28;01mimport\u001b[39;00m\u001b[38;5;250m \u001b[39m\u001b[34;01mmatplotlib\u001b[39;00m\u001b[34;01m.\u001b[39;00m\u001b[34;01mpyplot\u001b[39;00m\u001b[38;5;250m \u001b[39m\u001b[38;5;28;01mas\u001b[39;00m\u001b[38;5;250m \u001b[39m\u001b[34;01mplt\u001b[39;00m\n\u001b[32m      2\u001b[39m \u001b[38;5;28;01mimport\u001b[39;00m\u001b[38;5;250m \u001b[39m\u001b[34;01mseaborn\u001b[39;00m\u001b[38;5;250m \u001b[39m\u001b[38;5;28;01mas\u001b[39;00m\u001b[38;5;250m \u001b[39m\u001b[34;01msns\u001b[39;00m\n\u001b[32m----> \u001b[39m\u001b[32m4\u001b[39m sns.countplot(x=\u001b[33m'\u001b[39m\u001b[33mlabel\u001b[39m\u001b[33m'\u001b[39m, data=\u001b[43mdata\u001b[49m, palette=\u001b[33m'\u001b[39m\u001b[33mSet2\u001b[39m\u001b[33m'\u001b[39m)\n\u001b[32m      5\u001b[39m plt.title(\u001b[33m\"\u001b[39m\u001b[33mClass Distribution of Fake vs True News\u001b[39m\u001b[33m\"\u001b[39m)\n\u001b[32m      6\u001b[39m plt.show()\n",
      "\u001b[31mNameError\u001b[39m: name 'data' is not defined"
     ]
    }
   ],
   "source": [
    "import matplotlib.pyplot as plt\n",
    "import seaborn as sns\n",
    "\n",
    "sns.countplot(x='label', data=data, palette='Set2')\n",
    "plt.title(\"Class Distribution of Fake vs True News\")\n",
    "plt.show()\n"
   ]
  },
  {
   "cell_type": "markdown",
   "id": "de0a8cc3",
   "metadata": {},
   "source": [
    "\n",
    "A bar plot of the distribution highlights the balance:\n",
    "\n",
    "Both bars (FAKE vs TRUE) are nearly equal in height.\n",
    "\n",
    "There is no severe dominance of one class over the other.\n"
   ]
  },
  {
   "cell_type": "markdown",
   "id": "e068fed1",
   "metadata": {},
   "source": [
    "4. Why Class Balance Matters\n",
    "\n",
    "The class distribution is critical for machine learning classification tasks:\n",
    "\n",
    "If the dataset was heavily imbalanced e.g. 90% TRUE vs 10% FAKE, a model could achieve 90% accuracy by always predicting TRUE, but such a model would be useless in practice.\n",
    "\n",
    "Here, with a ~52/48 split, the baseline accuracy of random guessing is close to 50%, meaning our models must perform significantly better than chance to be useful."
   ]
  },
  {
   "cell_type": "markdown",
   "id": "2b0aa754",
   "metadata": {},
   "source": [
    "5. Implications for Modeling\n",
    "\n",
    "Since the dataset is balanced, we can proceed with standard train/test splitting without needing resampling techniques like SMOTE Synthetic Minority Oversampling Technique or undersampling.\n",
    "\n",
    "Evaluation metrics such as Accuracy, Precision, Recall, and F1-score will be meaningful, because neither class is underrepresented.\n",
    "\n",
    "Models won’t need special handling like class_weight='balanced' at this stage, though testing it may still be worthwhile later."
   ]
  },
  {
   "cell_type": "markdown",
   "id": "10645ec9",
   "metadata": {},
   "source": [
    "\n",
    "\n",
    "✅ Conclusion\n",
    "\n",
    "The Fake News dataset provides a balanced distribution of FAKE and TRUE articles. This balance ensures that classification models trained on this data will not inherently favor one label over the other, allowing for a fair and unbiased evaluation of algorithm performance.\n",
    "\n",
    "The slight overrepresentation of fake articles (~52%) may even be beneficial, as catching fake news (recall for FAKE) is often more critical in real-world applications than misclassifying a small portion of true news."
   ]
  }
 ],
 "metadata": {
  "kernelspec": {
   "display_name": "Python 3",
   "language": "python",
   "name": "python3"
  },
  "language_info": {
   "codemirror_mode": {
    "name": "ipython",
    "version": 3
   },
   "file_extension": ".py",
   "mimetype": "text/x-python",
   "name": "python",
   "nbconvert_exporter": "python",
   "pygments_lexer": "ipython3",
   "version": "3.12.10"
  }
 },
 "nbformat": 4,
 "nbformat_minor": 5
}
