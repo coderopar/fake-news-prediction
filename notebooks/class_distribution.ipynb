{
 "cells": [
  {
   "cell_type": "code",
   "execution_count": 1,
   "id": "6c29995a",
   "metadata": {},
   "outputs": [],
   "source": [
    "import pandas as pd\n",
    "import matplotlib.pyplot as plt\n",
    "import seaborn as sns\n",
    "\n",
    "# ---- Load datasets from CSV ----\n",
    "df_fake = pd.read_csv(\"Fake.csv\")   # Fake news\n",
    "df_real = pd.read_csv(\"True.csv\")   # Real news\n",
    "\n",
    "# ---- Add labels ----\n",
    "df_fake['label'] = \"FAKE\"\n",
    "df_real['label'] = \"REAL\""
   ]
  },
  {
   "cell_type": "code",
   "execution_count": 2,
   "id": "0f71d662",
   "metadata": {},
   "outputs": [
    {
     "data": {
      "text/html": [
       "<div>\n",
       "<style scoped>\n",
       "    .dataframe tbody tr th:only-of-type {\n",
       "        vertical-align: middle;\n",
       "    }\n",
       "\n",
       "    .dataframe tbody tr th {\n",
       "        vertical-align: top;\n",
       "    }\n",
       "\n",
       "    .dataframe thead th {\n",
       "        text-align: right;\n",
       "    }\n",
       "</style>\n",
       "<table border=\"1\" class=\"dataframe\">\n",
       "  <thead>\n",
       "    <tr style=\"text-align: right;\">\n",
       "      <th></th>\n",
       "      <th>title</th>\n",
       "      <th>text</th>\n",
       "      <th>subject</th>\n",
       "      <th>date</th>\n",
       "    </tr>\n",
       "  </thead>\n",
       "  <tbody>\n",
       "    <tr>\n",
       "      <th>0</th>\n",
       "      <td>As U.S. budget fight looms, Republicans flip t...</td>\n",
       "      <td>WASHINGTON (Reuters) - The head of a conservat...</td>\n",
       "      <td>politicsNews</td>\n",
       "      <td>December 31, 2017</td>\n",
       "    </tr>\n",
       "    <tr>\n",
       "      <th>1</th>\n",
       "      <td>U.S. military to accept transgender recruits o...</td>\n",
       "      <td>WASHINGTON (Reuters) - Transgender people will...</td>\n",
       "      <td>politicsNews</td>\n",
       "      <td>December 29, 2017</td>\n",
       "    </tr>\n",
       "    <tr>\n",
       "      <th>2</th>\n",
       "      <td>Senior U.S. Republican senator: 'Let Mr. Muell...</td>\n",
       "      <td>WASHINGTON (Reuters) - The special counsel inv...</td>\n",
       "      <td>politicsNews</td>\n",
       "      <td>December 31, 2017</td>\n",
       "    </tr>\n",
       "    <tr>\n",
       "      <th>3</th>\n",
       "      <td>FBI Russia probe helped by Australian diplomat...</td>\n",
       "      <td>WASHINGTON (Reuters) - Trump campaign adviser ...</td>\n",
       "      <td>politicsNews</td>\n",
       "      <td>December 30, 2017</td>\n",
       "    </tr>\n",
       "    <tr>\n",
       "      <th>4</th>\n",
       "      <td>Trump wants Postal Service to charge 'much mor...</td>\n",
       "      <td>SEATTLE/WASHINGTON (Reuters) - President Donal...</td>\n",
       "      <td>politicsNews</td>\n",
       "      <td>December 29, 2017</td>\n",
       "    </tr>\n",
       "    <tr>\n",
       "      <th>...</th>\n",
       "      <td>...</td>\n",
       "      <td>...</td>\n",
       "      <td>...</td>\n",
       "      <td>...</td>\n",
       "    </tr>\n",
       "    <tr>\n",
       "      <th>21412</th>\n",
       "      <td>'Fully committed' NATO backs new U.S. approach...</td>\n",
       "      <td>BRUSSELS (Reuters) - NATO allies on Tuesday we...</td>\n",
       "      <td>worldnews</td>\n",
       "      <td>August 22, 2017</td>\n",
       "    </tr>\n",
       "    <tr>\n",
       "      <th>21413</th>\n",
       "      <td>LexisNexis withdrew two products from Chinese ...</td>\n",
       "      <td>LONDON (Reuters) - LexisNexis, a provider of l...</td>\n",
       "      <td>worldnews</td>\n",
       "      <td>August 22, 2017</td>\n",
       "    </tr>\n",
       "    <tr>\n",
       "      <th>21414</th>\n",
       "      <td>Minsk cultural hub becomes haven from authorities</td>\n",
       "      <td>MINSK (Reuters) - In the shadow of disused Sov...</td>\n",
       "      <td>worldnews</td>\n",
       "      <td>August 22, 2017</td>\n",
       "    </tr>\n",
       "    <tr>\n",
       "      <th>21415</th>\n",
       "      <td>Vatican upbeat on possibility of Pope Francis ...</td>\n",
       "      <td>MOSCOW (Reuters) - Vatican Secretary of State ...</td>\n",
       "      <td>worldnews</td>\n",
       "      <td>August 22, 2017</td>\n",
       "    </tr>\n",
       "    <tr>\n",
       "      <th>21416</th>\n",
       "      <td>Indonesia to buy $1.14 billion worth of Russia...</td>\n",
       "      <td>JAKARTA (Reuters) - Indonesia will buy 11 Sukh...</td>\n",
       "      <td>worldnews</td>\n",
       "      <td>August 22, 2017</td>\n",
       "    </tr>\n",
       "  </tbody>\n",
       "</table>\n",
       "<p>21417 rows × 4 columns</p>\n",
       "</div>"
      ],
      "text/plain": [
       "                                                   title  \\\n",
       "0      As U.S. budget fight looms, Republicans flip t...   \n",
       "1      U.S. military to accept transgender recruits o...   \n",
       "2      Senior U.S. Republican senator: 'Let Mr. Muell...   \n",
       "3      FBI Russia probe helped by Australian diplomat...   \n",
       "4      Trump wants Postal Service to charge 'much mor...   \n",
       "...                                                  ...   \n",
       "21412  'Fully committed' NATO backs new U.S. approach...   \n",
       "21413  LexisNexis withdrew two products from Chinese ...   \n",
       "21414  Minsk cultural hub becomes haven from authorities   \n",
       "21415  Vatican upbeat on possibility of Pope Francis ...   \n",
       "21416  Indonesia to buy $1.14 billion worth of Russia...   \n",
       "\n",
       "                                                    text       subject  \\\n",
       "0      WASHINGTON (Reuters) - The head of a conservat...  politicsNews   \n",
       "1      WASHINGTON (Reuters) - Transgender people will...  politicsNews   \n",
       "2      WASHINGTON (Reuters) - The special counsel inv...  politicsNews   \n",
       "3      WASHINGTON (Reuters) - Trump campaign adviser ...  politicsNews   \n",
       "4      SEATTLE/WASHINGTON (Reuters) - President Donal...  politicsNews   \n",
       "...                                                  ...           ...   \n",
       "21412  BRUSSELS (Reuters) - NATO allies on Tuesday we...     worldnews   \n",
       "21413  LONDON (Reuters) - LexisNexis, a provider of l...     worldnews   \n",
       "21414  MINSK (Reuters) - In the shadow of disused Sov...     worldnews   \n",
       "21415  MOSCOW (Reuters) - Vatican Secretary of State ...     worldnews   \n",
       "21416  JAKARTA (Reuters) - Indonesia will buy 11 Sukh...     worldnews   \n",
       "\n",
       "                     date  \n",
       "0      December 31, 2017   \n",
       "1      December 29, 2017   \n",
       "2      December 31, 2017   \n",
       "3      December 30, 2017   \n",
       "4      December 29, 2017   \n",
       "...                   ...  \n",
       "21412    August 22, 2017   \n",
       "21413    August 22, 2017   \n",
       "21414    August 22, 2017   \n",
       "21415    August 22, 2017   \n",
       "21416    August 22, 2017   \n",
       "\n",
       "[21417 rows x 4 columns]"
      ]
     },
     "execution_count": 2,
     "metadata": {},
     "output_type": "execute_result"
    }
   ],
   "source": [
    "pd.read_csv(\"Fake.csv\")\n",
    "pd.read_csv(\"True.csv\")"
   ]
  },
  {
   "cell_type": "markdown",
   "id": "2b4a1b3d",
   "metadata": {},
   "source": [
    "#### My part Data preparation\n"
   ]
  },
  {
   "cell_type": "markdown",
   "id": "29630f1a",
   "metadata": {},
   "source": [
    "#### Class Distribution Analysis"
   ]
  },
  {
   "cell_type": "markdown",
   "id": "24f716c5",
   "metadata": {},
   "source": [
    "Before training the model, it is important to examine the distribution of the target classes. An imbalanced dataset e.g., 90% FAKE and 10% TRUE could bias the model toward the majority class, resulting in misleading accuracy and poor generalization. Ensuring balance is therefore critical for fair and reliable predictions."
   ]
  },
  {
   "cell_type": "markdown",
   "id": "f6467aac",
   "metadata": {},
   "source": [
    "1. Raw Class Counts\n"
   ]
  },
  {
   "cell_type": "code",
   "execution_count": 4,
   "id": "78a23504",
   "metadata": {},
   "outputs": [
    {
     "data": {
      "text/plain": [
       "label\n",
       "FAKE    23481\n",
       "REAL    21417\n",
       "Name: count, dtype: int64"
      ]
     },
     "execution_count": 4,
     "metadata": {},
     "output_type": "execute_result"
    }
   ],
   "source": [
    "data['label'].value_counts()\n"
   ]
  },
  {
   "cell_type": "markdown",
   "id": "4a4ab18a",
   "metadata": {},
   "source": [
    "The dataset contains 23,481 fake news articles and 21,417 true news articles.This results in a total of 44,898 articles.\n",
    "\n",
    "FAKE : 23,481  (~52.3%)\n",
    "TRUE : 21,417  (~47.7%)"
   ]
  },
  {
   "cell_type": "markdown",
   "id": "fd92166d",
   "metadata": {},
   "source": [
    "2. Percentage Distribution"
   ]
  },
  {
   "cell_type": "code",
   "execution_count": 5,
   "id": "781696b4",
   "metadata": {},
   "outputs": [
    {
     "data": {
      "text/plain": [
       "label\n",
       "FAKE    52.298543\n",
       "REAL    47.701457\n",
       "Name: proportion, dtype: float64"
      ]
     },
     "execution_count": 5,
     "metadata": {},
     "output_type": "execute_result"
    }
   ],
   "source": [
    "data['label'].value_counts(normalize=True) * 100\n"
   ]
  },
  {
   "cell_type": "markdown",
   "id": "d4260fa5",
   "metadata": {},
   "source": [
    "\n",
    "\n",
    "When converted into percentages, the class proportions are:\n",
    "\n",
    "FAKE → 52.3%\n",
    "\n",
    "TRUE → 47.7%\n",
    "\n",
    "This shows that the dataset is almost evenly balanced, with only a slight skew toward fake article"
   ]
  },
  {
   "cell_type": "markdown",
   "id": "e1950e65",
   "metadata": {},
   "source": [
    "\n",
    "3. Visualization\n"
   ]
  },
  {
   "cell_type": "code",
   "execution_count": 6,
   "id": "9691b9f6",
   "metadata": {},
   "outputs": [
    {
     "name": "stderr",
     "output_type": "stream",
     "text": [
      "C:\\Users\\user\\AppData\\Local\\Temp\\ipykernel_9456\\2253211797.py:4: FutureWarning: \n",
      "\n",
      "Passing `palette` without assigning `hue` is deprecated and will be removed in v0.14.0. Assign the `x` variable to `hue` and set `legend=False` for the same effect.\n",
      "\n",
      "  sns.countplot(x='label', data=data, palette='Set2')\n"
     ]
    },
    {
     "data": {
      "image/png": "[encoded data removed]",
      "text/plain": [
       "<Figure size 640x480 with 1 Axes>"
      ]
     },
     "metadata": {},
     "output_type": "display_data"
    }
   ],
   "source": [
    "import matplotlib.pyplot as plt\n",
    "import seaborn as sns\n",
    "\n",
    "sns.countplot(x='label', data=data, palette='Set2')\n",
    "plt.title(\"Class Distribution of Fake vs True News\")\n",
    "plt.show()\n"
   ]
  },
  {
   "cell_type": "markdown",
   "id": "c61d53b5",
   "metadata": {},
   "source": [
    "\n",
    "A bar plot of the distribution highlights the balance:\n",
    "\n",
    "Both bars (FAKE vs TRUE) are nearly equal in height.\n",
    "\n",
    "There is no severe dominance of one class over the other.\n"
   ]
  },
  {
   "cell_type": "markdown",
   "id": "62569b6c",
   "metadata": {},
   "source": [
    "4. Why Class Balance Matters\n",
    "\n",
    "The class distribution is critical for machine learning classification tasks:\n",
    "\n",
    "If the dataset was heavily imbalanced e.g. 90% TRUE vs 10% FAKE, a model could achieve 90% accuracy by always predicting TRUE, but such a model would be useless in practice.\n",
    "\n",
    "Here, with a ~52/48 split, the baseline accuracy of random guessing is close to 50%, meaning our models must perform significantly better than chance to be useful."
   ]
  },
  {
   "cell_type": "markdown",
   "id": "cc3411e9",
   "metadata": {},
   "source": [
    "5. Implications for Modeling\n",
    "\n",
    "Since the dataset is balanced, we can proceed with standard train/test splitting without needing resampling techniques like SMOTE Synthetic Minority Oversampling Technique or undersampling.\n",
    "\n",
    "Evaluation metrics such as Accuracy, Precision, Recall, and F1-score will be meaningful, because neither class is underrepresented.\n",
    "\n",
    "Models won’t need special handling like class_weight='balanced' at this stage, though testing it may still be worthwhile later."
   ]
  },
  {
   "cell_type": "markdown",
   "id": "66ab0e01",
   "metadata": {},
   "source": [
    "\n",
    "\n",
    "✅ Conclusion\n",
    "\n",
    "The Fake News dataset provides a balanced distribution of FAKE and TRUE articles. This balance ensures that classification models trained on this data will not inherently favor one label over the other, allowing for a fair and unbiased evaluation of algorithm performance.\n",
    "\n",
    "The slight overrepresentation of fake articles (~52%) may even be beneficial, as catching fake news (recall for FAKE) is often more critical in real-world applications than misclassifying a small portion of true news."
   ]
  }
 ],
 "metadata": {
  "kernelspec": {
   "display_name": "Python 3",
   "language": "python",
   "name": "python3"
  },
  "language_info": {
   "codemirror_mode": {
    "name": "ipython",
    "version": 3
   },
   "file_extension": ".py",
   "mimetype": "text/x-python",
   "name": "python",
   "nbconvert_exporter": "python",
   "pygments_lexer": "ipython3",
   "version": "3.12.10"
  }
 },
 "nbformat": 4,
 "nbformat_minor": 5
}
