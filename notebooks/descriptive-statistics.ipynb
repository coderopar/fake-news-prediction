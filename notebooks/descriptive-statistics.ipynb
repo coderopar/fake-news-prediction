{
 "cells": [
  {
   "cell_type": "code",
   "execution_count": null,
   "id": "85eac2ef",
   "metadata": {},
   "outputs": [],
   "source": [
    "# Import the libraries\n",
    "import pandas as pd\n",
    "import numpy as np\n",
    "import matplotlib.pyplot as plt\n",
    "import seaborn as sns\n",
    "import zipfile\n",
    "import os\n",
    "\n",
    "# This makes the graphs display nicely in the notebook\n",
    "%matplotlib inline"
   ]
  },
  {
   "cell_type": "code",
   "execution_count": null,
   "id": "c5b84e28",
   "metadata": {},
   "outputs": [],
   "source": [
    "with zipfile.ZipFile(\"../data/archive.zip\", 'r') as zip_ref:\n",
    "    zip_ref.extractall(\"unzipped_data\")\n",
    "    \n",
    "print(\"Files extracted successfully!\")\n",
    "\n",
    "os.listdir(\"unzipped_data\")"
   ]
  },
  {
   "cell_type": "code",
   "execution_count": null,
   "id": "8e7e94c0",
   "metadata": {},
   "outputs": [],
   "source": [
    "# Load the dataset\n",
    "df_fake = pd.read_csv(\"unzipped_data/Fake.csv\")\n",
    "df_true = pd.read_csv(\"unzipped_data/True.csv\")\n",
    "\n",
    "# Add labels\n",
    "df_fake[\"label\"] = \"FAKE\"\n",
    "df_true[\"label\"] = \"TRUE\"\n",
    "\n",
    "# Combine into one dataset\n",
    "df = pd.concat([df_fake, df_true], axis=0).reset_index(drop=True)"
   ]
  },
  {
   "cell_type": "code",
   "execution_count": null,
   "id": "38e9da09",
   "metadata": {},
   "outputs": [],
   "source": [
    "# Confirm it worked\n",
    "print(\"Dataset loaded successfully!\")\n",
    "print(f\"Total shape: {df.shape}\") # Should be (44898, 5) if the dataset hasn't changed\n",
    "df.head() # Displays the first 5 rows"
   ]
  },
  {
   "cell_type": "code",
   "execution_count": null,
   "id": "b7b5144f",
   "metadata": {},
   "outputs": [],
   "source": [
    "# The Big Picture - Dataset Overview\n",
    "print(\"=== 1. DATASET OVERVIEW ===\")\n",
    "print(f\"Total Number of Articles: {len(df)}\")\n",
    "print(f\"Number of FAKE articles (label 0): {len(df[df['label'] == 0])}\")\n",
    "print(f\"Number of REAL articles (label 1): {len(df[df['label'] == 1])}\")\n",
    "print(f\"Number of Columns/Features: {df.shape[1]}\")\n",
    "print(\"\\nColumn Names and Data Types:\")\n",
    "print(df.dtypes)"
   ]
  },
  {
   "cell_type": "code",
   "execution_count": null,
   "id": "0a642542",
   "metadata": {},
   "outputs": [],
   "source": [
    "# Cell 5: Data Quality Check\n",
    "print(\"=== 2. DATA QUALITY ===\")\n",
    "print(\"\\nMissing Values per Column:\")\n",
    "print(df.isnull().sum())\n",
    "\n",
    "print(f\"\\nTotal Duplicate Articles (based on text): {df.duplicated(subset='text').sum()}\")\n",
    "print(f\"Total Duplicate Titles: {df.duplicated(subset='title').sum()}\")"
   ]
  },
  {
   "cell_type": "code",
   "execution_count": null,
   "id": "a48ca91c",
   "metadata": {},
   "outputs": [],
   "source": [
    "# Text Analysis - Article Length\n",
    "# Create a new column for article length (in words)\n",
    "df['word_count'] = df['text'].apply(lambda x: len(str(x).split()))\n",
    "\n",
    "print(\"=== 3. TEXT ANALYSIS ===\")\n",
    "print(\"\\nAverage Article Length (in words):\")\n",
    "print(df.groupby('label')['word_count'].mean().round(2))\n"
   ]
  },
  {
   "cell_type": "code",
   "execution_count": null,
   "id": "e375d956",
   "metadata": {},
   "outputs": [],
   "source": [
    "# Create the visualization\n",
    "plt.figure(figsize=(10, 5))\n",
    "\n",
    "# Create a histogram for each label\n",
    "sns.histplot(data=df[df['label']==0], x='word_count', color='red', label='Fake', bins=50, alpha=0.6, kde=True, stat='density')\n",
    "sns.histplot(data=df[df['label']==1], x='word_count', color='green', label='Real', bins=50, alpha=0.6, kde=True, stat='density')\n",
    "plt.title('Distribution of Article Length by Label')\n",
    "plt.xlabel('Word Count')\n",
    "plt.ylabel('Density')\n",
    "plt.xlim(0, 20000) \n",
    "plt.legend()\n",
    "plt.show()"
   ]
  },
  {
   "cell_type": "code",
   "execution_count": null,
   "id": "f6f30308",
   "metadata": {},
   "outputs": [],
   "source": [
    "# Subject Analysis\n",
    "print(\"=== 4. SUBJECT ANALYSIS ===\")\n",
    "if 'subject' in df.columns:\n",
    "    print(\"\\nSubjects for FAKE news:\")\n",
    "    print(df[df['label'] == 0]['subject'].value_counts())\n",
    "    print(\"\\nSubjects for REAL news:\")\n",
    "    print(df[df['label'] == 1]['subject'].value_counts())\n"
   ]
  },
  {
   "cell_type": "code",
   "execution_count": null,
   "id": "8a9eb192",
   "metadata": {},
   "outputs": [],
   "source": [
    "    # Plotting the overall subject count\n",
    "    plt.figure(figsize=(12, 5))\n",
    "    df['subject'].value_counts().plot(kind='bar')\n",
    "    plt.title('Overall Count of Articles by Subject')\n",
    "    plt.xticks(rotation=45)\n",
    "    plt.tight_layout() # Prevents labels from being cut off\n",
    "    plt.show()"
   ]
  },
  {
   "cell_type": "code",
   "execution_count": null,
   "id": "cd485040",
   "metadata": {},
   "outputs": [],
   "source": [
    "    # A more advanced plot: subject distribution by label\n",
    "    plt.figure(figsize=(12, 5))\n"
   ]
  },
  {
   "cell_type": "code",
   "execution_count": null,
   "id": "d1358585",
   "metadata": {},
   "outputs": [],
   "source": [
    "    # This creates a cross-tabulation (count) of subject by label\n",
    "    subject_by_label = pd.crosstab(df['subject'], df['label'])\n",
    "    subject_by_label.plot(kind='bar', figsize=(12,5))\n",
    "    plt.title('Subject Distribution by News Label')\n",
    "    plt.xlabel('Subject')\n",
    "    plt.ylabel('Count')\n",
    "    plt.xticks(rotation=45)\n",
    "    plt.legend(['Fake', 'Real'])\n",
    "    plt.tight_layout()\n",
    "    plt.show()\n",
    "\n",
    "\n"
   ]
  }
 ],
 "metadata": {
  "kernelspec": {
   "display_name": "Python (learn-env)",
   "language": "python",
   "name": "learn-env"
  },
  "language_info": {
   "codemirror_mode": {
    "name": "ipython",
    "version": 3
   },
   "file_extension": ".py",
   "mimetype": "text/x-python",
   "name": "python",
   "nbconvert_exporter": "python",
   "pygments_lexer": "ipython3",
   "version": "3.8.5"
  }
 },
 "nbformat": 4,
 "nbformat_minor": 5
}
