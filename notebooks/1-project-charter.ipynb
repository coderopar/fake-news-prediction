{
 "cells": [
  {
   "cell_type": "markdown",
   "id": "e8340873",
   "metadata": {},
   "source": [
    "## Project Charter"
   ]
  }
 ],
 "metadata": {
  "language_info": {
   "name": "python"
  }
 },
 "nbformat": 4,
 "nbformat_minor": 5
}
