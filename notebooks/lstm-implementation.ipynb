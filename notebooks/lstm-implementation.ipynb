{
 "cells": [
  {
   "cell_type": "code",
   "execution_count": 2,
   "id": "d1370e58",
   "metadata": {},
   "outputs": [],
   "source": [
    "import pandas as pd\n",
    "import numpy as np\n",
    "import matplotlib.pyplot as plt\n",
    "import seaborn as sns\n",
    "from sklearn.metrics import classification_report, confusion_matrix\n",
    "import tensorflow as tf\n",
    "from tensorflow.keras.models import Sequential\n",
    "from tensorflow.keras.layers import LSTM, Dense, Embedding, Dropout, SpatialDropout1D, Bidirectional\n",
    "from tensorflow.keras.preprocessing.text import Tokenizer\n",
    "from tensorflow.keras.preprocessing.sequence import pad_sequences\n",
    "from tensorflow.keras.callbacks import EarlyStopping, ReduceLROnPlateau\n",
    "from tensorflow.keras.regularizers import l2\n",
    "from tensorflow.keras.optimizers import Adam\n",
    "import os\n",
    "from pathlib import Path\n",
    "import warnings\n",
    "warnings.filterwarnings('ignore')\n"
   ]
  },
  {
   "cell_type": "code",
   "execution_count": 1,
   "id": "8851c9cb",
   "metadata": {},
   "outputs": [
    {
     "name": "stdout",
     "output_type": "stream",
     "text": [
      "Created/verified folder: ../models\n",
      "Created/verified folder: ../results\n",
      " Found: ../data/train.csv\n",
      " Found: ../data/val.csv\n",
      " Found: ../data/test.csv\n"
     ]
    }
   ],
   "source": [
    "import os\n",
    "from pathlib import Path\n",
    "\n",
    "# Create the required folders if they don't exist\n",
    "folders_to_create = ['../models', '../results']\n",
    "\n",
    "for folder in folders_to_create:\n",
    "    Path(folder).mkdir(parents=True, exist_ok=True)\n",
    "    print(f\"Created/verified folder: {folder}\")\n",
    "\n",
    "# Check if the data files exist\n",
    "data_files = ['../data/train.csv', '../data/val.csv', '../data/test.csv']\n",
    "\n",
    "for file in data_files:\n",
    "    if os.path.exists(file):\n",
    "        print(f\" Found: {file}\")\n",
    "    else:\n",
    "        print(f\" MISSING: {file} - Ask for these files!\")"
   ]
  },
  {
   "cell_type": "code",
   "execution_count": null,
   "id": "147eb189",
   "metadata": {},
   "outputs": [
    {
     "name": "stdout",
     "output_type": "stream",
     "text": [
      "=== Checking required files ===\n",
      "✓ Found train data: ../data/train.csv\n",
      "✓ Found val data: ../data/val.csv\n",
      "✓ Found test data: ../data/test.csv\n",
      "\n",
      "✓ All files found! Starting LSTM training...\n"
     ]
    }
   ],
   "source": [
    "# ==================== FILE CHECK ====================\n",
    "print(\"=== Checking required files ===\")\n",
    "# Check if data files exist\n",
    "data_files = {\n",
    "    'train': '../data/train.csv',\n",
    "    'val': '../data/val.csv', \n",
    "    'test': '../data/test.csv'\n",
    "}\n",
    "\n",
    "missing_files = []\n",
    "for name, path in data_files.items():\n",
    "    if os.path.exists(path):\n",
    "        print(f\" Found {name} data: {path}\")\n",
    "    else:\n",
    "        print(f\" MISSING: {path}\")\n",
    "        missing_files.append(path)\n",
    "\n",
    "if missing_files:\n",
    "    print(f\"\\n ERROR: Missing {len(missing_files)} files!:\")\n",
    "    for file in missing_files:\n",
    "        print(f\"   - {file}\")\n",
    "    print(\"\\nThe LSTM code cannot run without these files!\")\n",
    "else:\n",
    "    print(\"\\n All files found! Starting LSTM training...\")"
   ]
  }
 ],
 "metadata": {
  "kernelspec": {
   "display_name": "tfenv",
   "language": "python",
   "name": "python3"
  },
  "language_info": {
   "codemirror_mode": {
    "name": "ipython",
    "version": 3
   },
   "file_extension": ".py",
   "mimetype": "text/x-python",
   "name": "python",
   "nbconvert_exporter": "python",
   "pygments_lexer": "ipython3",
   "version": "3.8.20"
  }
 },
 "nbformat": 4,
 "nbformat_minor": 5
}
