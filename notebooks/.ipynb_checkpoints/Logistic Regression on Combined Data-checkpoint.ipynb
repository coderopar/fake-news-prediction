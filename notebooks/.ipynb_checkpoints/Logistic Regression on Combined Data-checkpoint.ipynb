{
 "cells": [
  {
   "cell_type": "code",
   "execution_count": 1,
   "metadata": {},
   "outputs": [
    {
     "name": "stdout",
     "output_type": "stream",
     "text": [
      "Files extracted successfully!\n"
     ]
    }
   ],
   "source": [
    "import zipfile\n",
    "\n",
    "with zipfile.ZipFile(\"../data/archive.zip\", 'r') as zip_ref:\n",
    "    zip_ref.extractall(\"unzipped_data\")\n",
    "    \n",
    "print(\"Files extracted successfully!\")"
   ]
  },
  {
   "cell_type": "code",
   "execution_count": 2,
   "metadata": {},
   "outputs": [
    {
     "name": "stdout",
     "output_type": "stream",
     "text": [
      "Fake News Dataset: (23481, 4)\n",
      "True News Dataset: (21417, 4)\n"
     ]
    },
    {
     "data": {
      "text/html": [
       "<div>\n",
       "<style scoped>\n",
       "    .dataframe tbody tr th:only-of-type {\n",
       "        vertical-align: middle;\n",
       "    }\n",
       "\n",
       "    .dataframe tbody tr th {\n",
       "        vertical-align: top;\n",
       "    }\n",
       "\n",
       "    .dataframe thead th {\n",
       "        text-align: right;\n",
       "    }\n",
       "</style>\n",
       "<table border=\"1\" class=\"dataframe\">\n",
       "  <thead>\n",
       "    <tr style=\"text-align: right;\">\n",
       "      <th></th>\n",
       "      <th>title</th>\n",
       "      <th>text</th>\n",
       "      <th>subject</th>\n",
       "      <th>date</th>\n",
       "    </tr>\n",
       "  </thead>\n",
       "  <tbody>\n",
       "    <tr>\n",
       "      <th>0</th>\n",
       "      <td>Donald Trump Sends Out Embarrassing New Year’...</td>\n",
       "      <td>Donald Trump just couldn t wish all Americans ...</td>\n",
       "      <td>News</td>\n",
       "      <td>December 31, 2017</td>\n",
       "    </tr>\n",
       "    <tr>\n",
       "      <th>1</th>\n",
       "      <td>Drunk Bragging Trump Staffer Started Russian ...</td>\n",
       "      <td>House Intelligence Committee Chairman Devin Nu...</td>\n",
       "      <td>News</td>\n",
       "      <td>December 31, 2017</td>\n",
       "    </tr>\n",
       "    <tr>\n",
       "      <th>2</th>\n",
       "      <td>Sheriff David Clarke Becomes An Internet Joke...</td>\n",
       "      <td>On Friday, it was revealed that former Milwauk...</td>\n",
       "      <td>News</td>\n",
       "      <td>December 30, 2017</td>\n",
       "    </tr>\n",
       "    <tr>\n",
       "      <th>3</th>\n",
       "      <td>Trump Is So Obsessed He Even Has Obama’s Name...</td>\n",
       "      <td>On Christmas day, Donald Trump announced that ...</td>\n",
       "      <td>News</td>\n",
       "      <td>December 29, 2017</td>\n",
       "    </tr>\n",
       "    <tr>\n",
       "      <th>4</th>\n",
       "      <td>Pope Francis Just Called Out Donald Trump Dur...</td>\n",
       "      <td>Pope Francis used his annual Christmas Day mes...</td>\n",
       "      <td>News</td>\n",
       "      <td>December 25, 2017</td>\n",
       "    </tr>\n",
       "  </tbody>\n",
       "</table>\n",
       "</div>"
      ],
      "text/plain": [
       "                                               title  \\\n",
       "0   Donald Trump Sends Out Embarrassing New Year’...   \n",
       "1   Drunk Bragging Trump Staffer Started Russian ...   \n",
       "2   Sheriff David Clarke Becomes An Internet Joke...   \n",
       "3   Trump Is So Obsessed He Even Has Obama’s Name...   \n",
       "4   Pope Francis Just Called Out Donald Trump Dur...   \n",
       "\n",
       "                                                text subject  \\\n",
       "0  Donald Trump just couldn t wish all Americans ...    News   \n",
       "1  House Intelligence Committee Chairman Devin Nu...    News   \n",
       "2  On Friday, it was revealed that former Milwauk...    News   \n",
       "3  On Christmas day, Donald Trump announced that ...    News   \n",
       "4  Pope Francis used his annual Christmas Day mes...    News   \n",
       "\n",
       "                date  \n",
       "0  December 31, 2017  \n",
       "1  December 31, 2017  \n",
       "2  December 30, 2017  \n",
       "3  December 29, 2017  \n",
       "4  December 25, 2017  "
      ]
     },
     "execution_count": 2,
     "metadata": {},
     "output_type": "execute_result"
    }
   ],
   "source": [
    "import pandas as pd\n",
    "\n",
    "fake_df = pd.read_csv(\"unzipped_data/Fake.csv\")\n",
    "true_df = pd.read_csv(\"unzipped_data/True.csv\")\n",
    "\n",
    "print(\"Fake News Dataset:\", fake_df.shape)\n",
    "print(\"True News Dataset:\", true_df.shape)\n",
    "\n",
    "fake_df.head()"
   ]
  },
  {
   "cell_type": "code",
   "execution_count": 3,
   "metadata": {},
   "outputs": [
    {
     "name": "stdout",
     "output_type": "stream",
     "text": [
      "(44898, 5)\n",
      "label\n",
      "FAKE    23481\n",
      "TRUE    21417\n",
      "Name: count, dtype: int64\n",
      "<class 'pandas.core.frame.DataFrame'>\n",
      "RangeIndex: 44898 entries, 0 to 44897\n",
      "Data columns (total 5 columns):\n",
      " #   Column   Non-Null Count  Dtype \n",
      "---  ------   --------------  ----- \n",
      " 0   title    44898 non-null  object\n",
      " 1   text     44898 non-null  object\n",
      " 2   subject  44898 non-null  object\n",
      " 3   date     44898 non-null  object\n",
      " 4   label    44898 non-null  object\n",
      "dtypes: object(5)\n",
      "memory usage: 1.7+ MB\n",
      "None\n"
     ]
    },
    {
     "data": {
      "text/html": [
       "<div>\n",
       "<style scoped>\n",
       "    .dataframe tbody tr th:only-of-type {\n",
       "        vertical-align: middle;\n",
       "    }\n",
       "\n",
       "    .dataframe tbody tr th {\n",
       "        vertical-align: top;\n",
       "    }\n",
       "\n",
       "    .dataframe thead th {\n",
       "        text-align: right;\n",
       "    }\n",
       "</style>\n",
       "<table border=\"1\" class=\"dataframe\">\n",
       "  <thead>\n",
       "    <tr style=\"text-align: right;\">\n",
       "      <th></th>\n",
       "      <th>title</th>\n",
       "      <th>text</th>\n",
       "      <th>subject</th>\n",
       "      <th>date</th>\n",
       "      <th>label</th>\n",
       "    </tr>\n",
       "  </thead>\n",
       "  <tbody>\n",
       "    <tr>\n",
       "      <th>0</th>\n",
       "      <td>Ben Stein Calls Out 9th Circuit Court: Committ...</td>\n",
       "      <td>21st Century Wire says Ben Stein, reputable pr...</td>\n",
       "      <td>US_News</td>\n",
       "      <td>February 13, 2017</td>\n",
       "      <td>FAKE</td>\n",
       "    </tr>\n",
       "    <tr>\n",
       "      <th>1</th>\n",
       "      <td>Trump drops Steve Bannon from National Securit...</td>\n",
       "      <td>WASHINGTON (Reuters) - U.S. President Donald T...</td>\n",
       "      <td>politicsNews</td>\n",
       "      <td>April 5, 2017</td>\n",
       "      <td>TRUE</td>\n",
       "    </tr>\n",
       "    <tr>\n",
       "      <th>2</th>\n",
       "      <td>Puerto Rico expects U.S. to lift Jones Act shi...</td>\n",
       "      <td>(Reuters) - Puerto Rico Governor Ricardo Rosse...</td>\n",
       "      <td>politicsNews</td>\n",
       "      <td>September 27, 2017</td>\n",
       "      <td>TRUE</td>\n",
       "    </tr>\n",
       "    <tr>\n",
       "      <th>3</th>\n",
       "      <td>OOPS: Trump Just Accidentally Confirmed He Le...</td>\n",
       "      <td>On Monday, Donald Trump once again embarrassed...</td>\n",
       "      <td>News</td>\n",
       "      <td>May 22, 2017</td>\n",
       "      <td>FAKE</td>\n",
       "    </tr>\n",
       "    <tr>\n",
       "      <th>4</th>\n",
       "      <td>Donald Trump heads for Scotland to reopen a go...</td>\n",
       "      <td>GLASGOW, Scotland (Reuters) - Most U.S. presid...</td>\n",
       "      <td>politicsNews</td>\n",
       "      <td>June 24, 2016</td>\n",
       "      <td>TRUE</td>\n",
       "    </tr>\n",
       "  </tbody>\n",
       "</table>\n",
       "</div>"
      ],
      "text/plain": [
       "                                               title  \\\n",
       "0  Ben Stein Calls Out 9th Circuit Court: Committ...   \n",
       "1  Trump drops Steve Bannon from National Securit...   \n",
       "2  Puerto Rico expects U.S. to lift Jones Act shi...   \n",
       "3   OOPS: Trump Just Accidentally Confirmed He Le...   \n",
       "4  Donald Trump heads for Scotland to reopen a go...   \n",
       "\n",
       "                                                text       subject  \\\n",
       "0  21st Century Wire says Ben Stein, reputable pr...       US_News   \n",
       "1  WASHINGTON (Reuters) - U.S. President Donald T...  politicsNews   \n",
       "2  (Reuters) - Puerto Rico Governor Ricardo Rosse...  politicsNews   \n",
       "3  On Monday, Donald Trump once again embarrassed...          News   \n",
       "4  GLASGOW, Scotland (Reuters) - Most U.S. presid...  politicsNews   \n",
       "\n",
       "                  date label  \n",
       "0    February 13, 2017  FAKE  \n",
       "1       April 5, 2017   TRUE  \n",
       "2  September 27, 2017   TRUE  \n",
       "3         May 22, 2017  FAKE  \n",
       "4       June 24, 2016   TRUE  "
      ]
     },
     "execution_count": 3,
     "metadata": {},
     "output_type": "execute_result"
    }
   ],
   "source": [
    "#merge and label\n",
    "\n",
    "#Add a label column\n",
    "fake_df[\"label\"] = \"FAKE\"\n",
    "true_df[\"label\"] = \"TRUE\"\n",
    "\n",
    "#Merge into one dataset\n",
    "df = pd.concat([fake_df, true_df], ignore_index = True)\n",
    "\n",
    "#Shuffle the rows so FAKE and TRUE are mixed\n",
    "df = df.sample(frac=1, random_state=42).reset_index(drop=True)\n",
    "\n",
    "#Check the structure\n",
    "print(df.shape)\n",
    "print(df[\"label\"].value_counts())\n",
    "print(df.info())\n",
    "df.head()"
   ]
  },
  {
   "cell_type": "code",
   "execution_count": 12,
   "metadata": {},
   "outputs": [],
   "source": [
    "#merge and label\n",
    "\n",
    "#Add a label column\n",
    "\n",
    "#fake_df[\"label\"] = \"FAKE\"\n",
    "#true_df[\"label\"] = \"TRUE\"\n",
    "\n",
    "#Merge into one dataset\n",
    "\n",
    "#data = pd.concat([fake_df, true_df], ignore_index = True)\n",
    "\n",
    "#Shuffle the rows so FAKE and TRUE are mixed\n",
    "\n",
    "#data = data.sample(frac=1, random_state=42).reset_index(drop=True)\n",
    "\n",
    "#Check the structure\n",
    "\n",
    "#print(data.shape)\n",
    "#print(data[\"label\"].value_counts())\n",
    "#data.head()"
   ]
  },
  {
   "cell_type": "markdown",
   "metadata": {},
   "source": [
    "## **Chapter 3. Data Preparation**"
   ]
  },
  {
   "cell_type": "code",
   "execution_count": 5,
   "metadata": {},
   "outputs": [
    {
     "name": "stderr",
     "output_type": "stream",
     "text": [
      "[nltk_data] Downloading package punkt to\n",
      "[nltk_data]     C:\\Users\\Admin\\AppData\\Roaming\\nltk_data...\n",
      "[nltk_data]   Package punkt is already up-to-date!\n",
      "[nltk_data] Downloading package punkt_tab to\n",
      "[nltk_data]     C:\\Users\\Admin\\AppData\\Roaming\\nltk_data...\n",
      "[nltk_data]   Package punkt_tab is already up-to-date!\n",
      "[nltk_data] Downloading package wordnet to\n",
      "[nltk_data]     C:\\Users\\Admin\\AppData\\Roaming\\nltk_data...\n",
      "[nltk_data]   Package wordnet is already up-to-date!\n",
      "[nltk_data] Downloading package omw-1.4 to\n",
      "[nltk_data]     C:\\Users\\Admin\\AppData\\Roaming\\nltk_data...\n",
      "[nltk_data]   Package omw-1.4 is already up-to-date!\n",
      "[nltk_data] Downloading package stopwords to\n",
      "[nltk_data]     C:\\Users\\Admin\\AppData\\Roaming\\nltk_data...\n",
      "[nltk_data]   Package stopwords is already up-to-date!\n"
     ]
    },
    {
     "data": {
      "text/plain": [
       "True"
      ]
     },
     "execution_count": 5,
     "metadata": {},
     "output_type": "execute_result"
    }
   ],
   "source": [
    "import pandas as pd\n",
    "import matplotlib.pyplot as plt\n",
    "import os\n",
    "import zipfile\n",
    "from wordcloud import WordCloud\n",
    "import seaborn as sns\n",
    "import re\n",
    "import nltk\n",
    "from nltk.corpus import stopwords\n",
    "from nltk.stem import WordNetLemmatizer\n",
    "from sklearn.model_selection import StratifiedShuffleSplit\n",
    "\n",
    "# Download resources once\n",
    "nltk.download(\"punkt\")\n",
    "nltk.download(\"punkt_tab\")\n",
    "nltk.download(\"wordnet\")\n",
    "nltk.download(\"omw-1.4\")\n",
    "nltk.download(\"stopwords\")"
   ]
  },
  {
   "cell_type": "markdown",
   "metadata": {},
   "source": [
    "### **3.1 Lowercasing & URL removal**\n",
    "**1. Defining Preprocessing Function**"
   ]
  },
  {
   "cell_type": "code",
   "execution_count": 6,
   "metadata": {},
   "outputs": [
    {
     "name": "stdout",
     "output_type": "stream",
     "text": [
      "Preprocessing functions defined!\n",
      "\n"
     ]
    }
   ],
   "source": [
    "def preprocess_text_lowercase_url(text):\n",
    "    \"\"\"\n",
    "    MAIN PREPROCESSING FUNCTION:\n",
    "    - Converts text to lowercase\n",
    "    - Removes URLs, hyperlinks, and website addresses\n",
    "    - Handles missing values safely\n",
    "    - Cleans extra whitespace\n",
    "    \"\"\"\n",
    "    # Handle missing values\n",
    "    if pd.isna(text) or text is None:\n",
    "        return \"\"\n",
    "    \n",
    "    # Convert to string to ensure consistent processing\n",
    "    text = str(text)\n",
    "    \n",
    "    # COMPREHENSIVE URL REMOVAL PATTERN:\n",
    "    url_pattern = r'https?://\\S+|www\\.\\S+|\\S+\\.(com|org|net|edu|gov|io|co|uk)\\S*|bit\\.ly/\\S+|t\\.co/\\S+'\n",
    "    \n",
    "    # Remove all URLs from text\n",
    "    text = re.sub(url_pattern, '', text)\n",
    "    \n",
    "    # Convert entire text to lowercase for consistency\n",
    "    text = text.lower()\n",
    "    \n",
    "    # Clean up extra whitespace\n",
    "    text = re.sub(r'\\s+', ' ', text).strip()\n",
    "    \n",
    "    return text\n",
    "\n",
    "print(\"Preprocessing functions defined!\\n\")"
   ]
  },
  {
   "cell_type": "markdown",
   "metadata": {},
   "source": [
    "**2. Quality check functions**"
   ]
  },
  {
   "cell_type": "code",
   "execution_count": 7,
   "metadata": {},
   "outputs": [],
   "source": [
    "def contains_url(text):\n",
    "    \"\"\"Check if text contains any URLs\"\"\"\n",
    "    url_pattern = r'https?://|www\\.|\\.[a-z]{2,}'\n",
    "    return bool(re.search(url_pattern, str(text).lower()))\n",
    "\n",
    "def count_uppercase(text):\n",
    "    \"\"\"Count uppercase characters in text\"\"\"\n",
    "    return sum(1 for char in str(text) if char.isupper())"
   ]
  },
  {
   "cell_type": "markdown",
   "metadata": {},
   "source": [
    "### **3.2 Remove Non-Alphabetic Characters**\n",
    "* Keep only letters and spaces (drop numbers, punctuation, emojis)"
   ]
  },
  {
   "cell_type": "code",
   "execution_count": 8,
   "metadata": {},
   "outputs": [],
   "source": [
    "URL_RE   = re.compile(r'https?://\\S+|www\\.\\S+')\n",
    "HTML_RE  = re.compile(r'<.*?>')\n",
    "NONALPH  = re.compile(r'[^a-z\\s]+')     # keep letters & spaces only\n",
    "WS_RE    = re.compile(r'\\s+')\n",
    "\n",
    "# Defining Preprocessing Function\n",
    "def _keep_alpha_only(text: str) -> str:\n",
    "    text = NONALPH.sub(\" \", text)    # remove non-letters\n",
    "    text = WS_RE.sub(\" \", text).strip()\n",
    "    return text"
   ]
  },
  {
   "cell_type": "markdown",
   "metadata": {},
   "source": [
    "### **3.3 Lemmatization**\n",
    "Lemmatize tokens (verb-first) to unify forms (running - run)"
   ]
  },
  {
   "cell_type": "code",
   "execution_count": 9,
   "metadata": {},
   "outputs": [],
   "source": [
    "# Initialize lemmatizer and stopwords\n",
    "lemmatizer = WordNetLemmatizer()\n",
    "stop_words = set(stopwords.words(\"english\"))\n",
    "\n",
    "# Define preprocessing + lemmatization function\n",
    "def preprocess_and_lemmatize(text):\n",
    "    if isinstance(text, str):  # make sure it's a string\n",
    "        # Lowercase\n",
    "        text = text.lower()\n",
    "\n",
    "        # Remove punctuation, numbers, special chars\n",
    "        text = re.sub(r'[^a-z\\s]', '', text)\n",
    "\n",
    "        # Tokenize\n",
    "        tokens = nltk.word_tokenize(text)\n",
    "\n",
    "        # Remove stopwords + lemmatize\n",
    "        tokens = [lemmatizer.lemmatize(word) for word in tokens if word not in stop_words]\n",
    "\n",
    "        return \" \".join(tokens)\n",
    "    else:\n",
    "        return \"\"\n"
   ]
  },
  {
   "cell_type": "markdown",
   "metadata": {},
   "source": [
    "### **3.4 Apply Preprocessing**\n",
    "\n",
    "**Defining Function**"
   ]
  },
  {
   "cell_type": "code",
   "execution_count": 10,
   "metadata": {},
   "outputs": [],
   "source": [
    "# Defining function to apply preprocessing\n",
    "def apply_preprocessing(text: str) -> str:\n",
    "    \"\"\"\n",
    "      1) preprocess_text_lowercase_url  [lowercase + URL removal + whitespace clean]\n",
    "      2) _keep_alpha_only                [remove non-alphabetic, collapse spaces]\n",
    "      3) preprocess_and_lemmatize [tokenize, drop stopwords, lemmatize]\n",
    "    \"\"\"\n",
    "    # Step 1 (Teammate 4)\n",
    "    text = preprocess_text_lowercase_url(text)\n",
    "\n",
    "    # Step 2 (Teammate 4)\n",
    "    text = _keep_alpha_only(text)\n",
    "\n",
    "    # Step 3 (Teammate 5, adapter)\n",
    "    text = preprocess_and_lemmatize(text)\n",
    "\n",
    "    return text"
   ]
  },
  {
   "cell_type": "markdown",
   "metadata": {},
   "source": [
    "**Applying Preprocessing**"
   ]
  },
  {
   "cell_type": "code",
   "execution_count": 11,
   "metadata": {},
   "outputs": [],
   "source": [
    "df['title_clean'] = df['title'].apply(apply_preprocessing)\n",
    "df['text_clean'] = df['text'].apply(apply_preprocessing)\n"
   ]
  },
  {
   "cell_type": "code",
   "execution_count": 13,
   "metadata": {},
   "outputs": [],
   "source": [
    "df[\"combined_text\"] = (df[\"title_clean\"] + \" \" + df[\"text_clean\"]).str.strip()\n"
   ]
  },
  {
   "cell_type": "code",
   "execution_count": 14,
   "metadata": {},
   "outputs": [
    {
     "data": {
      "text/html": [
       "<div>\n",
       "<style scoped>\n",
       "    .dataframe tbody tr th:only-of-type {\n",
       "        vertical-align: middle;\n",
       "    }\n",
       "\n",
       "    .dataframe tbody tr th {\n",
       "        vertical-align: top;\n",
       "    }\n",
       "\n",
       "    .dataframe thead th {\n",
       "        text-align: right;\n",
       "    }\n",
       "</style>\n",
       "<table border=\"1\" class=\"dataframe\">\n",
       "  <thead>\n",
       "    <tr style=\"text-align: right;\">\n",
       "      <th></th>\n",
       "      <th>title</th>\n",
       "      <th>text</th>\n",
       "      <th>subject</th>\n",
       "      <th>date</th>\n",
       "      <th>label</th>\n",
       "      <th>title_clean</th>\n",
       "      <th>text_clean</th>\n",
       "      <th>combined_text</th>\n",
       "    </tr>\n",
       "  </thead>\n",
       "  <tbody>\n",
       "    <tr>\n",
       "      <th>0</th>\n",
       "      <td>Ben Stein Calls Out 9th Circuit Court: Committ...</td>\n",
       "      <td>21st Century Wire says Ben Stein, reputable pr...</td>\n",
       "      <td>US_News</td>\n",
       "      <td>February 13, 2017</td>\n",
       "      <td>FAKE</td>\n",
       "      <td>ben stein call th circuit court committed coup...</td>\n",
       "      <td>st century wire say ben stein reputable profes...</td>\n",
       "      <td>ben stein call th circuit court committed coup...</td>\n",
       "    </tr>\n",
       "    <tr>\n",
       "      <th>1</th>\n",
       "      <td>Trump drops Steve Bannon from National Securit...</td>\n",
       "      <td>WASHINGTON (Reuters) - U.S. President Donald T...</td>\n",
       "      <td>politicsNews</td>\n",
       "      <td>April 5, 2017</td>\n",
       "      <td>TRUE</td>\n",
       "      <td>trump drop steve bannon national security council</td>\n",
       "      <td>washington reuters u president donald trump re...</td>\n",
       "      <td>trump drop steve bannon national security coun...</td>\n",
       "    </tr>\n",
       "    <tr>\n",
       "      <th>2</th>\n",
       "      <td>Puerto Rico expects U.S. to lift Jones Act shi...</td>\n",
       "      <td>(Reuters) - Puerto Rico Governor Ricardo Rosse...</td>\n",
       "      <td>politicsNews</td>\n",
       "      <td>September 27, 2017</td>\n",
       "      <td>TRUE</td>\n",
       "      <td>puerto rico expects u lift jones act shipping ...</td>\n",
       "      <td>reuters puerto rico governor ricardo rossello ...</td>\n",
       "      <td>puerto rico expects u lift jones act shipping ...</td>\n",
       "    </tr>\n",
       "    <tr>\n",
       "      <th>3</th>\n",
       "      <td>OOPS: Trump Just Accidentally Confirmed He Le...</td>\n",
       "      <td>On Monday, Donald Trump once again embarrassed...</td>\n",
       "      <td>News</td>\n",
       "      <td>May 22, 2017</td>\n",
       "      <td>FAKE</td>\n",
       "      <td>oops trump accidentally confirmed leaked israe...</td>\n",
       "      <td>monday donald trump embarrassed country accide...</td>\n",
       "      <td>oops trump accidentally confirmed leaked israe...</td>\n",
       "    </tr>\n",
       "    <tr>\n",
       "      <th>4</th>\n",
       "      <td>Donald Trump heads for Scotland to reopen a go...</td>\n",
       "      <td>GLASGOW, Scotland (Reuters) - Most U.S. presid...</td>\n",
       "      <td>politicsNews</td>\n",
       "      <td>June 24, 2016</td>\n",
       "      <td>TRUE</td>\n",
       "      <td>donald trump head scotland reopen golf resort</td>\n",
       "      <td>glasgow scotland reuters u presidential candid...</td>\n",
       "      <td>donald trump head scotland reopen golf resort ...</td>\n",
       "    </tr>\n",
       "  </tbody>\n",
       "</table>\n",
       "</div>"
      ],
      "text/plain": [
       "                                               title  \\\n",
       "0  Ben Stein Calls Out 9th Circuit Court: Committ...   \n",
       "1  Trump drops Steve Bannon from National Securit...   \n",
       "2  Puerto Rico expects U.S. to lift Jones Act shi...   \n",
       "3   OOPS: Trump Just Accidentally Confirmed He Le...   \n",
       "4  Donald Trump heads for Scotland to reopen a go...   \n",
       "\n",
       "                                                text       subject  \\\n",
       "0  21st Century Wire says Ben Stein, reputable pr...       US_News   \n",
       "1  WASHINGTON (Reuters) - U.S. President Donald T...  politicsNews   \n",
       "2  (Reuters) - Puerto Rico Governor Ricardo Rosse...  politicsNews   \n",
       "3  On Monday, Donald Trump once again embarrassed...          News   \n",
       "4  GLASGOW, Scotland (Reuters) - Most U.S. presid...  politicsNews   \n",
       "\n",
       "                  date label  \\\n",
       "0    February 13, 2017  FAKE   \n",
       "1       April 5, 2017   TRUE   \n",
       "2  September 27, 2017   TRUE   \n",
       "3         May 22, 2017  FAKE   \n",
       "4       June 24, 2016   TRUE   \n",
       "\n",
       "                                         title_clean  \\\n",
       "0  ben stein call th circuit court committed coup...   \n",
       "1  trump drop steve bannon national security council   \n",
       "2  puerto rico expects u lift jones act shipping ...   \n",
       "3  oops trump accidentally confirmed leaked israe...   \n",
       "4      donald trump head scotland reopen golf resort   \n",
       "\n",
       "                                          text_clean  \\\n",
       "0  st century wire say ben stein reputable profes...   \n",
       "1  washington reuters u president donald trump re...   \n",
       "2  reuters puerto rico governor ricardo rossello ...   \n",
       "3  monday donald trump embarrassed country accide...   \n",
       "4  glasgow scotland reuters u presidential candid...   \n",
       "\n",
       "                                       combined_text  \n",
       "0  ben stein call th circuit court committed coup...  \n",
       "1  trump drop steve bannon national security coun...  \n",
       "2  puerto rico expects u lift jones act shipping ...  \n",
       "3  oops trump accidentally confirmed leaked israe...  \n",
       "4  donald trump head scotland reopen golf resort ...  "
      ]
     },
     "execution_count": 14,
     "metadata": {},
     "output_type": "execute_result"
    }
   ],
   "source": [
    "df.head()"
   ]
  },
  {
   "cell_type": "markdown",
   "metadata": {},
   "source": [
    "**Checking length of combined texts**"
   ]
  },
  {
   "cell_type": "code",
   "execution_count": 15,
   "metadata": {},
   "outputs": [
    {
     "name": "stdout",
     "output_type": "stream",
     "text": [
      "Char length stats: {'count': 44898.0, 'mean': 1752.6512762261125, 'std': 1504.6273547303033, 'min': 0.0, '50%': 1542.0, '90%': 3202.0, '95%': 3917.300000000003, '99%': 6340.029999999999, 'max': 37972.0}\n",
      "Token length stats: {'count': 44898.0, 'mean': 242.22885206467993, 'std': 204.33721510097433, 'min': 0.0, '50%': 215.0, '90%': 440.0, '95%': 538.0, '99%': 863.0, 'max': 4968.0}\n",
      "{'too_short': 9, 'too_long_char': 266}\n"
     ]
    }
   ],
   "source": [
    "# Character lengths\n",
    "COL = \"combined_text\" \n",
    "df[\"_char_len\"] = df[COL].str.len()\n",
    "\n",
    "# Simple whitespace token count [plain: word count proxy]\n",
    "df[\"_tok_len_ws\"] = df[COL].str.split().apply(len)\n",
    "\n",
    "# Summaries\n",
    "print(\"Char length stats:\", df[\"_char_len\"].describe(percentiles=[.5,.9,.95,.99]).to_dict())\n",
    "print(\"Token length stats:\", df[\"_tok_len_ws\"].describe(percentiles=[.5,.9,.95,.99]).to_dict())\n",
    "\n",
    "# Flags for extremes (adjust thresholds to your data)\n",
    "too_short = df[\"_tok_len_ws\"] < 3           # [plain: likely junk]\n",
    "too_long_char = df[\"_char_len\"] > 8000      # [plain: abnormally long articles]\n",
    "print({\"too_short\": int(too_short.sum()), \"too_long_char\": int(too_long_char.sum())})"
   ]
  },
  {
   "cell_type": "markdown",
   "metadata": {},
   "source": [
    "**Insights**\n",
    "\n",
    "Since some combined texts are too long, those training BERT and LSTM should set paramters for the maximum length allowed"
   ]
  },
  {
   "cell_type": "markdown",
   "metadata": {},
   "source": [
    "## **Chapter 4. Modelling**\n",
    "### **4.1 Stratified Train Test Split**\n",
    "\n",
    "We create a function to do two Stratified Train Test Splits to our data ensruing that we have 10% in both the validation split and the test split.\n",
    "\n",
    "A Stratified Split ensures we maintain the ratio of classes `Main/Fake` throughhout our splits\n",
    "\n",
    "We export the splits into csv files for GPU training"
   ]
  },
  {
   "cell_type": "code",
   "execution_count": 16,
   "metadata": {},
   "outputs": [
    {
     "name": "stdout",
     "output_type": "stream",
     "text": [
      "{'train': 35918, 'val': 4490, 'test': 4490}\n",
      "Files saved succesfully under data/\n"
     ]
    }
   ],
   "source": [
    "def train_val_test_split_stratified(df, label_col=\"label\", test_size=0.1, val_size=0.1, seed=42):\n",
    "    y = df[label_col].values  # these are \"FAKE\"/\"TRUE\" strings\n",
    "\n",
    "    # First split: train+val vs test\n",
    "    sss1 = StratifiedShuffleSplit(n_splits=1, test_size=test_size, random_state=seed)\n",
    "    idx_trainval, idx_test = next(sss1.split(df, y))\n",
    "    df_trainval = df.iloc[idx_trainval].reset_index(drop=True)\n",
    "    df_test = df.iloc[idx_test].reset_index(drop=True)\n",
    "\n",
    "    # Second split: train vs val\n",
    "    sss2 = StratifiedShuffleSplit(n_splits=1, test_size=val_size/(1-test_size), random_state=seed)\n",
    "    y_tv = df_trainval[label_col].values\n",
    "    idx_train, idx_val = next(sss2.split(df_trainval, y_tv))\n",
    "    df_train = df_trainval.iloc[idx_train].reset_index(drop=True)\n",
    "    df_val = df_trainval.iloc[idx_val].reset_index(drop=True)\n",
    "\n",
    "    return df_train, df_val, df_test\n",
    "\n",
    "# Run the split\n",
    "df_train, df_val, df_test = train_val_test_split_stratified(\n",
    "    df, label_col=\"label\", test_size=0.10, val_size=0.10, seed=42\n",
    ")\n",
    "\n",
    "# Print sizes\n",
    "print({k: len(v) for k,v in {\"train\": df_train, \"val\": df_val, \"test\": df_test}.items()})\n",
    "\n",
    "# Save the raw splits\n",
    "from pathlib import Path\n",
    "split_dir = Path(\"../data\")        # define as Path, not string\n",
    "split_dir.mkdir(parents=True, exist_ok=True)  # make sure folder exists\n",
    "\n",
    "df_train.to_csv(split_dir / \"train.csv\", index=False)\n",
    "df_val.to_csv(split_dir / \"val.csv\", index=False)\n",
    "df_test.to_csv(split_dir / \"test.csv\", index=False)\n",
    "print(\"Files saved succesfully under data/\")"
   ]
  },
  {
   "cell_type": "markdown",
   "metadata": {},
   "source": [
    "## 4.1.a Train/Validation/Test Setup\n",
    "We use stratified splits to ensure balanced representation of FAKE and TRUE labels across train, validation, and test sets.  \n",
    "- Labels are encoded as FAKE = 1, TRUE = 0.  \n",
    "- Text features are taken from the `combined_text` column (or `text` if not available).  \n",
    "- The resulting splits are: Train, Validation, and Test.\n"
   ]
  },
  {
   "cell_type": "markdown",
   "metadata": {},
   "source": [
    "#### Set feature/label columns from existing splits"
   ]
  },
  {
   "cell_type": "code",
   "execution_count": 17,
   "metadata": {},
   "outputs": [
    {
     "name": "stdout",
     "output_type": "stream",
     "text": [
      "Splits: (35918, 11) (4490, 11) (4490, 11) | text column: combined_text\n"
     ]
    }
   ],
   "source": [
    "# Define features and labels using prepared splits: df_train, df_val, df_test\n",
    "\n",
    "TEXT_COL = \"combined_text\" if \"combined_text\" in df_train.columns else \"text\"\n",
    "LABEL_COL = \"label\"\n",
    "\n",
    "# Encode labels: FAKE = 1, TRUE = 0\n",
    "label_map = {\"FAKE\": 1, \"TRUE\": 0}\n",
    "for d in (df_train, df_val, df_test):\n",
    "    d[\"label_num\"] = d[LABEL_COL].map(label_map)\n",
    "\n",
    "# Split into features (X) and targets (y)\n",
    "X_train, y_train = df_train[TEXT_COL], df_train[\"label_num\"]\n",
    "X_val,   y_val   = df_val[TEXT_COL],   df_val[\"label_num\"]\n",
    "X_test,  y_test  = df_test[TEXT_COL],  df_test[\"label_num\"]\n",
    "\n",
    "print(\"Splits:\", df_train.shape, df_val.shape, df_test.shape, \"| text column:\", TEXT_COL)\n"
   ]
  },
  {
   "cell_type": "markdown",
   "metadata": {},
   "source": [
    "## 4.1.b Baseline Model: TF-IDF + Logistic Regression \n",
    "\n",
    "We fit a simple baseline using TF-IDF features (unigrams, max 5k terms) and Logistic Regression.  \n",
    "This establishes a reference for accuracy, F1, and ROC-AUC before tuning."
   ]
  },
  {
   "cell_type": "code",
   "execution_count": 18,
   "metadata": {},
   "outputs": [],
   "source": [
    "# Imports\n",
    "import pandas as pd\n",
    "import numpy as np\n",
    "from sklearn.model_selection import train_test_split\n",
    "from sklearn.feature_extraction.text import TfidfVectorizer\n",
    "from sklearn.linear_model import LogisticRegression\n",
    "from sklearn.metrics import (\n",
    "    classification_report, confusion_matrix, accuracy_score,\n",
    "    roc_auc_score, roc_curve, ConfusionMatrixDisplay\n",
    ")\n",
    "import matplotlib.pyplot as plt"
   ]
  },
  {
   "cell_type": "markdown",
   "metadata": {},
   "source": [
    "#### Baseline fit + Predictions"
   ]
  },
  {
   "cell_type": "code",
   "execution_count": 21,
   "metadata": {},
   "outputs": [],
   "source": [
    "from sklearn.feature_extraction.text import TfidfVectorizer\n",
    "from sklearn.linear_model import LogisticRegression\n",
    "from sklearn.metrics import (classification_report, confusion_matrix, accuracy_score,\n",
    "                             roc_auc_score, roc_curve, ConfusionMatrixDisplay)\n",
    "import matplotlib.pyplot as plt\n",
    "\n",
    "# Vectorize\n",
    "tfidf_base = TfidfVectorizer(max_features=5000, stop_words=\"english\")\n",
    "Xtr_base = tfidf_base.fit_transform(X_train)\n",
    "Xte_base = tfidf_base.transform(X_test)\n",
    "\n",
    "# Model\n",
    "lr_base = LogisticRegression(max_iter=1000, solver=\"liblinear\", random_state=42)\n",
    "lr_base.fit(Xtr_base, y_train)\n",
    "\n",
    "# Predictions\n",
    "y_pred_base  = lr_base.predict(Xte_base)\n",
    "y_proba_base = lr_base.predict_proba(Xte_base)[:, 1]\n"
   ]
  },
  {
   "cell_type": "markdown",
   "metadata": {},
   "source": [
    "## 4.1.c  Baseline Evaluation\n",
    "\n",
    "We report Accuracy, macro-averaged F1, Confusion Matrix, and ROC-AUC on the test set.\n"
   ]
  },
  {
   "cell_type": "markdown",
   "metadata": {},
   "source": [
    "#### Baseline metrics + plots"
   ]
  },
  {
   "cell_type": "code",
   "execution_count": 25,
   "metadata": {},
   "outputs": [
    {
     "name": "stdout",
     "output_type": "stream",
     "text": [
      "Baseline Accuracy: 0.9846\n",
      "\n",
      "Classification Report (Baseline):\n",
      "               precision    recall  f1-score   support\n",
      "\n",
      "        TRUE       0.98      0.99      0.98      2142\n",
      "        FAKE       0.99      0.98      0.99      2348\n",
      "\n",
      "    accuracy                           0.98      4490\n",
      "   macro avg       0.98      0.98      0.98      4490\n",
      "weighted avg       0.98      0.98      0.98      4490\n",
      "\n"
     ]
    },
    {
     "data": {
      "image/png": "[encoded data removed]",
      "text/plain": [
       "<Figure size 640x480 with 2 Axes>"
      ]
     },
     "metadata": {},
     "output_type": "display_data"
    },
    {
     "data": {
      "image/png": "[encoded data removed]",
      "text/plain": [
       "<Figure size 640x480 with 1 Axes>"
      ]
     },
     "metadata": {},
     "output_type": "display_data"
    }
   ],
   "source": [
    "# Evaluate Baseline Logistic Regression\n",
    "print(\"Baseline Accuracy:\", round(accuracy_score(y_test, y_pred_base), 4))\n",
    "print(\"\\nClassification Report (Baseline):\\n\", classification_report(y_test, y_pred_base, target_names=[\"TRUE\",\"FAKE\"]))\n",
    "\n",
    "# Confusion Matrix\n",
    "cm_base = confusion_matrix(y_test, y_pred_base)\n",
    "ConfusionMatrixDisplay(cm_base, display_labels=[\"TRUE\",\"FAKE\"]).plot(values_format=\"d\")\n",
    "plt.title(\"Baseline — Confusion Matrix\")\n",
    "plt.show()\n",
    "\n",
    "# ROC-AUC Curve\n",
    "auc_base = roc_auc_score(y_test, y_proba_base)\n",
    "fpr_b, tpr_b, _ = roc_curve(y_test, y_proba_base)\n",
    "plt.plot(fpr_b, tpr_b, label=f\"Baseline ROC-AUC = {auc_base:.4f}\")\n",
    "plt.plot([0,1],[0,1],\"--\")\n",
    "plt.xlabel(\"False Positive Rate\"); plt.ylabel(\"True Positive Rate\")\n",
    "plt.title(\"Baseline — ROC Curve\"); plt.legend(); plt.show()\n"
   ]
  },
  {
   "cell_type": "markdown",
   "metadata": {},
   "source": [
    "### Model Performance Summary\n",
    "\n",
    "Accuracy: 0.9846 (~99%)\n",
    "\n",
    "Precision: TRUE = 0.98, FAKE = 0.99\n",
    "\n",
    "Recall: TRUE = 0.99, FAKE = 0.98\n",
    "\n",
    "F1-score: Both classes ~0.99\n",
    "\n",
    "ROC-AUC: 0.9988 (excellent separation between classes)\n",
    "\n",
    "\n",
    "### Confusion Matrix Insights\n",
    "\n",
    "TRUE articles: 2119 correctly predicted, 23 misclassified as FAKE.\n",
    "\n",
    "FAKE articles: 2302 correctly predicted, 46 misclassified as TRUE.\n",
    "\n",
    "The model makes very few mistakes compared to the large sample size.\n",
    "\n",
    "* Interpretation:*\n",
    "\n",
    "Errors are balanced between both classes - the model is not biased towards TRUE or FAKE.\n",
    "\n",
    "This means misclassifications happens in fewer than ~70 out of ~4490 teest samples (<1.6%) \n",
    "\n",
    "### ROC Curve\n",
    "\n",
    "ROC-AUC = 0.9988 (~99.9%) - that means the model can almost perfectly distinguish between fake and true news.\n",
    "\n",
    "The curve hugs the top-left corner which is an indication of very high sensitivity and specificity.\n",
    "\n",
    "\n",
    "#### Key Takeaways\n",
    "\n",
    "- The baseline Logistic Regression model performs exceptionally well, with nearly perfect accuracy and ROC-AUC.\n",
    "\n",
    "- Both classes (TRUE, FAKE) are balanced in performance, so the model is not biased toward one class.\n",
    "\n",
    "- The few misclassifications (23 TRUE → FAKE, 46 FAKE → TRUE) are very small relative to the dataset size.\n",
    "\n",
    "This strong baseline suggests Logistic Regression with TF-IDF is already a very competitive model for fake news detection.\n",
    "\n",
    "Hyperparameter tuning may improve results slightly, but even the untuned model is strong enough for deployment.\n"
   ]
  },
  {
   "cell_type": "markdown",
   "metadata": {},
   "source": [
    "### Save Baseline Model — For Reuse/Deployment  \n",
    "\n",
    "After evaluating the baseline Logistic Regression, we save the model and vectorizer as artifacts.  \n",
    "These files can be reloaded later for deployment (e.g., Streamlit app, API, or reporting).  \n",
    "This ensures we preserve a strong baseline, even if tuning results differ.  "
   ]
  },
  {
   "cell_type": "code",
   "execution_count": 30,
   "metadata": {},
   "outputs": [
    {
     "name": "stdout",
     "output_type": "stream",
     "text": [
      "Saved: models/logreg_model.joblib, models/tfidf_vectorizer.joblib\n"
     ]
    }
   ],
   "source": [
    "import os, joblib\n",
    "\n",
    "#Create models directory if doesn't exists\n",
    "os.makedirs(\"models\", exist_ok=True)\n",
    "\n",
    "#Save baseline Logistic Regression + TF-IDF\n",
    "joblib.dump(lr_base, \"models/logreg_model.joblib\")\n",
    "joblib.dump(tfidf_base,   \"models/tfidf_vectorizer.joblib\")\n",
    "print(\"Saved: models/logreg_model.joblib, models/tfidf_vectorizer.joblib\")\n"
   ]
  },
  {
   "cell_type": "markdown",
   "metadata": {},
   "source": [
    "## 4.1.d Hyperparameter Tuning with GridSearchCV\n",
    "\n",
    "Now that we have a strong baseline, we perform hyperparameter tuning to confirm robustness and test whether performance can be further optimized.\n",
    "\n",
    "We tune both TF-IDF and Logistic Regression:\n",
    "\n",
    "- `tfidf__ngram_range`: unigrams vs bigrams  \n",
    "- `tfidf__max_df` and `tfidf__min_df`: filter overly common/rare words  \n",
    "- `clf__C`: regularization strength  \n",
    "- `clf__solver` and `clf__penalty`: logistic regression optimization  \n",
    "\n",
    "Evaluation metric: **F1-macro** (balances FAKE and TRUE equally).\n"
   ]
  },
  {
   "cell_type": "markdown",
   "metadata": {},
   "source": [
    "#### Tuning"
   ]
  },
  {
   "cell_type": "code",
   "execution_count": 31,
   "metadata": {},
   "outputs": [
    {
     "name": "stdout",
     "output_type": "stream",
     "text": [
      "Fitting 5 folds for each of 48 candidates, totalling 240 fits\n",
      "Best CV f1_macro: 0.9929\n",
      "Best params: {'clf__C': 10, 'clf__penalty': 'l2', 'clf__solver': 'liblinear', 'tfidf__max_df': 0.7, 'tfidf__min_df': 5, 'tfidf__ngram_range': (1, 2)}\n"
     ]
    }
   ],
   "source": [
    "from sklearn.pipeline import Pipeline\n",
    "from sklearn.model_selection import GridSearchCV, StratifiedKFold\n",
    "\n",
    "# Pipeline: TF-IDF + Logistic Regression\n",
    "pipe = Pipeline([\n",
    "    (\"tfidf\", TfidfVectorizer(stop_words=\"english\")),\n",
    "    (\"clf\", LogisticRegression(max_iter=2000, random_state=42))\n",
    "])\n",
    "\n",
    "# Parameter grid\n",
    "param_grid = {\n",
    "    \"tfidf__max_df\": [0.5, 0.7, 0.9],\n",
    "    \"tfidf__min_df\": [2, 5],\n",
    "    \"tfidf__ngram_range\": [(1,1), (1,2)],\n",
    "    \"clf__C\": [0.1, 1, 3, 10],\n",
    "    \"clf__solver\": [\"liblinear\"],\n",
    "    \"clf__penalty\": [\"l2\"]\n",
    "}\n",
    "\n",
    "# Cross-validation strategy\n",
    "cv = StratifiedKFold(n_splits=5, shuffle=True, random_state=42)\n",
    "\n",
    "# Run GridSearch\n",
    "gs = GridSearchCV(pipe, param_grid, scoring=\"f1_macro\", cv=cv, n_jobs=-1, verbose=1)\n",
    "gs.fit(X_train, y_train)\n",
    "\n",
    "print(\"Best CV f1_macro:\", round(gs.best_score_, 4))\n",
    "print(\"Best params:\", gs.best_params_)"
   ]
  },
  {
   "cell_type": "markdown",
   "metadata": {},
   "source": [
    "## 4.1.e Tuned Model Evaluation\n",
    "\n",
    "We evaluate the best configuration on the held-out test set and compare to baseline"
   ]
  },
  {
   "cell_type": "markdown",
   "metadata": {},
   "source": [
    "#### Tuned metrics + plots"
   ]
  },
  {
   "cell_type": "code",
   "execution_count": 32,
   "metadata": {},
   "outputs": [
    {
     "name": "stdout",
     "output_type": "stream",
     "text": [
      "Tuned Accuracy: 0.9922\n",
      "Tuned F1 (macro): 0.9922\n",
      "\n",
      "Classification Report (Tuned):\n",
      "               precision    recall  f1-score   support\n",
      "\n",
      "        TRUE       0.99      0.99      0.99      2142\n",
      "        FAKE       0.99      0.99      0.99      2348\n",
      "\n",
      "    accuracy                           0.99      4490\n",
      "   macro avg       0.99      0.99      0.99      4490\n",
      "weighted avg       0.99      0.99      0.99      4490\n",
      "\n"
     ]
    },
    {
     "data": {
      "image/png": "[encoded data removed]",
      "text/plain": [
       "<Figure size 640x480 with 2 Axes>"
      ]
     },
     "metadata": {},
     "output_type": "display_data"
    },
    {
     "data": {
      "image/png": "[encoded data removed]",
      "text/plain": [
       "<Figure size 640x480 with 1 Axes>"
      ]
     },
     "metadata": {},
     "output_type": "display_data"
    }
   ],
   "source": [
    "# Evaluate best model on test set\n",
    "best = gs.best_estimator_\n",
    "\n",
    "pred_tuned= best.predict(X_test)\n",
    "proba_tuned = best.predict_proba(X_test)[:,1]\n",
    "\n",
    "from sklearn.metrics import f1_score\n",
    "print(\"Tuned Accuracy:\", round(accuracy_score(y_test, pred_tuned), 4))\n",
    "print(\"Tuned F1 (macro):\", round(f1_score(y_test, pred_tuned, average=\"macro\"), 4))\n",
    "print(\"\\nClassification Report (Tuned):\\n\",\n",
    "      classification_report(y_test, pred_tuned, target_names=[\"TRUE\",\"FAKE\"]))\n",
    "\n",
    "cm_tuned = confusion_matrix(y_test, pred_tuned)\n",
    "ConfusionMatrixDisplay(cm_tuned, display_labels=[\"TRUE\",\"FAKE\"]).plot(values_format=\"d\")\n",
    "plt.title(\"Tuned — Confusion Matrix\"); plt.show()\n",
    "\n",
    "auc_tuned = roc_auc_score(y_test, proba_tuned)\n",
    "fpr_t, tpr_t, _ = roc_curve(y_test, proba_tuned)\n",
    "plt.plot(fpr_t, tpr_t, label=f\"Tuned ROC-AUC = {auc_tuned:.4f}\")\n",
    "plt.plot([0,1],[0,1],\"--\")\n",
    "plt.xlabel(\"False Positive Rate\"); plt.ylabel(\"True Positive Rate\")\n",
    "plt.title(\"Tuned — ROC Curve\"); plt.legend(); plt.show()\n"
   ]
  },
  {
   "cell_type": "markdown",
   "metadata": {},
   "source": [
    "## 4.1.f Baseline vs Tuned Model Comparison\n",
    "\n",
    "We compare baseline Logistic Regression with the tuned GridSearchCV model to highlight improvements.\n",
    "\n",
    "| Model                      | Accuracy | F1 (Macro) | ROC-AUC |\n",
    "|-----------------------------|----------|------------|---------|\n",
    "| Logistic Regression (Base)  | 0.9846   | ~0.98    | ~0.9988  |\n",
    "| Logistic Regression (Tuned) | 0.9922   | ~0.99  | ~0.9997 |\n",
    "\n",
    "**Interpretation:**\n",
    "- The baseline model was already very strong, with high precision, recall, and ROC-AUC.\n",
    "- After tuning, the **tuned model** achieved slightly higher Accuracy (+0.0076), F1 (+0.0076), and ROC-AUC (+0.0009).  \n",
    "- Although the improvement is modest, tuning confirms that the model is **robust and reliable across multiple folds**, making it safer for deployment.  \n",
    "- Both models perform well, but the tuned version is recommended for production since it has been validated systematically.  "
   ]
  },
  {
   "cell_type": "markdown",
   "metadata": {},
   "source": [
    "### Save Tuned Model Artifacts - For Deployment \n",
    "\n",
    "After hyperparameter tuning, we save the best model and vectorizer.  \n",
    "These artifacts will be reused in deployment (Streamlit app) and reporting (Tableau dashboard).\n"
   ]
  },
  {
   "cell_type": "code",
   "execution_count": 33,
   "metadata": {},
   "outputs": [
    {
     "name": "stdout",
     "output_type": "stream",
     "text": [
      "Saved: models/logreg_tuned_model.joblib\n",
      "Saved: models/tfidf_tuned_vectorizer.joblib\n"
     ]
    }
   ],
   "source": [
    "import os, joblib\n",
    "\n",
    "os.makedirs(\"models\", exist_ok=True)\n",
    "\n",
    "# Save tuned model and vectorizer\n",
    "joblib.dump(best, \"models/logreg_tuned_model.joblib\")\n",
    "joblib.dump(best.named_steps[\"tfidf\"], \"models/tfidf_tuned_vectorizer.joblib\")\n",
    "\n",
    "print(\"Saved: models/logreg_tuned_model.joblib\")\n",
    "print(\"Saved: models/tfidf_tuned_vectorizer.joblib\")"
   ]
  },
  {
   "cell_type": "markdown",
   "metadata": {},
   "source": []
  }
 ],
 "metadata": {
  "kernelspec": {
   "display_name": "Python (ds38)",
   "language": "python",
   "name": "ds38"
  },
  "language_info": {
   "codemirror_mode": {
    "name": "ipython",
    "version": 3
   },
   "file_extension": ".py",
   "mimetype": "text/x-python",
   "name": "python",
   "nbconvert_exporter": "python",
   "pygments_lexer": "ipython3",
   "version": "3.8.20"
  }
 },
 "nbformat": 4,
 "nbformat_minor": 4
}
